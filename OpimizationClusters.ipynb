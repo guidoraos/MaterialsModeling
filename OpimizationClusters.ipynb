{
 "cells": [
  {
   "cell_type": "markdown",
   "metadata": {},
   "source": [
    "# Optimization practical\n",
    "Guido Raos, Politecnico di Milano, April 2021 (guido.raos@polimi.it)"
   ]
  },
  {
   "cell_type": "markdown",
   "metadata": {},
   "source": [
    "In this notebook we test some optimization methods, which are used also in a molecular modeling contexts (e.g., to minimize the energy of a molecular system with respect to the atomic coordinates).\n",
    "\n",
    "All the methods are implemented within the Optimize package of SciPy:\n",
    "https://docs.scipy.org/doc/scipy/reference/optimize.html?highlight=optimiz#\n",
    "\n",
    "We test the optimization methods on:\n",
    "\n",
    "* The Himmelblau function, a standard two-dimensional function used for testing comparing optimization algorithms: https://en.wikipedia.org/wiki/Test_functions_for_optimization\n",
    "\n",
    "* clusters of $N$ atoms interacting by the LJ potential:\n",
    "\\begin{equation*}\n",
    "U_{LJ}(\\mathbf{R}_0,...,\\mathbf{R}_{N-1}) = \\sum_{i=0}^{N-2} \\sum_{j=i+1}^{N-1} 4\\epsilon \\left[ \\left(\\frac{\\sigma}{R_{ij}}\\right)^{12} - \\left(\\frac{\\sigma}{R_{ij}}\\right)^{6}\\right]\n",
    "\\end{equation*}"
   ]
  },
  {
   "cell_type": "code",
   "execution_count": null,
   "metadata": {},
   "outputs": [],
   "source": [
    "import numpy as np\n",
    "import scipy.optimize as opt\n",
    "import matplotlib.pyplot as plt"
   ]
  },
  {
   "cell_type": "markdown",
   "metadata": {},
   "source": [
    "## The Himmelblau function"
   ]
  },
  {
   "cell_type": "code",
   "execution_count": null,
   "metadata": {},
   "outputs": [],
   "source": [
    "\n",
    "def himmel(x):\n",
    "    \"\"\"Returns the Himmelblau function\"\"\"\n",
    "    return (x[0]**2+x[1]-11)**2 + (x[0]+x[1]**2)-7\n",
    "\n",
    "def himmel_der(x):\n",
    "    \"\"\"Returns the gradient of the Himmelblau function\"\"\"\n",
    "    g = np.zeros(2)\n",
    "    g[0] = 4*x[0]*( x[0]**2 +x[1] -11 ) + 2*( x[0] +x[1]**2 -7 )\n",
    "    g[1] = 2* ( x[0]**2 +x[1] -11) +4*x[1]*( x[0] +x[1]**2 -7)\n",
    "    return g\n",
    "    \n",
    "def himmel_hess(x):\n",
    "    \"\"\"Returns the Hessian of the Himmelblau function\"\"\"\n",
    "    h = np.zeros([2,2])\n",
    "    h[0,0] = 12*x[0]**2 + 4*x[1] -42\n",
    "    h[1,1] = 4*x[1] + 12*x[1] -26\n",
    "    h[0,1] = h[1,0] = 4*x[0] + 4*x[1]\n",
    "    return h\n",
    "    "
   ]
  },
  {
   "cell_type": "markdown",
   "metadata": {},
   "source": [
    "I wanted to do something similar to this ... \n",
    "\n",
    "https://scipy-lectures.org/advanced/mathematical_optimization/auto_examples/plot_gradient_descent.html\n",
    "\n",
    "No time today, perhaps on another day..."
   ]
  },
  {
   "cell_type": "markdown",
   "metadata": {},
   "source": [
    "## Lennard-Jones clusters: local optimization"
   ]
  },
  {
   "cell_type": "code",
   "execution_count": null,
   "metadata": {},
   "outputs": [],
   "source": [
    "def ULJ(r, sigma=1.0, epsilon=1.0):\n",
    "    \"\"\"Computes the LJ interaction energy for two atoms, at distance r\"\"\"\n",
    "#    print(\"Now in ULJ\", r, sigma, epsilon)\n",
    "    sr6 = (sigma / r)**6\n",
    "    energy = 4 * epsilon * ( sr6**2 - sr6 )\n",
    "    return energy\n",
    "\n",
    "def ULJ_der(r, sigma=1.0, epsilon=1.0):\n",
    "    \"\"\"Computes the derivative of the LJ energy for two atoms, at distance r\"\"\"\n",
    "    sr = sigma / r\n",
    "    sr6 = sr**6\n",
    "    sr7 = sr*sr6\n",
    "    sr13 = sr6*sr7\n",
    "    derivative = 24 * (epsilon/sigma) * ( -2.0*sr13 + sr7 )\n",
    "    return derivative\n",
    "\n",
    "def ULJmany(coords1D, sigma=1.0, epsilon=1.0):\n",
    "    \"\"\"Computes the LJ interaction energy for N atoms, with 3D coordinates x\"\"\"\n",
    "    N = coords1D.shape[0]//3\n",
    "#    print (\"Number of atoms in LJ Energy:\", N)\n",
    "    x = coords1D.reshape(N,3,order='C')\n",
    "    energy = 0.0\n",
    "    for i in range(N-1):\n",
    "        for j in range(i+1,N):\n",
    "            rji = (x[i,0]-x[j,0])**2 + (x[i,1]-x[j,1])**2 + (x[i,2]-x[j,2])**2\n",
    "            rji = np.sqrt(rji)\n",
    "            energy += ULJ(rji, sigma, epsilon)\n",
    "    return energy\n",
    "\n",
    "def ULJmany_der(coords1D, sigma=1.0, epsilon=1.0):\n",
    "    \"\"\"Computes the gradient of the LJ energy for N atoms, with 3D coordinates x\"\"\"\n",
    "    N = coords1D.shape[0]//3\n",
    "#    print (\"Number of atoms in LJ Gradient:\", N)\n",
    "    x = coords1D.reshape(N,3,order='C')\n",
    "    gradient = np.zeros([N,3])\n",
    "    for i in range(N-1):\n",
    "        for j in range(i+1,N):\n",
    "            xji = x[i,0]-x[j,0]\n",
    "            yji = x[i,1]-x[j,1]\n",
    "            zji = x[i,2]-x[j,2]\n",
    "            rji = xji**2 + yji**2 + zji**2\n",
    "            rji = np.sqrt(rji)\n",
    "            gji = ULJ_der(rji, sigma, epsilon) / rji\n",
    "            gradient[i,0] += gji * xji\n",
    "            gradient[i,1] += gji * yji\n",
    "            gradient[i,2] += gji * zji\n",
    "            gradient[j,0] -= gji * xji\n",
    "            gradient[j,1] -= gji * yji\n",
    "            gradient[j,2] -= gji * zji        \n",
    "    gradient1D = gradient.reshape(3*N, order='C')\n",
    "    return gradient1D\n"
   ]
  },
  {
   "cell_type": "code",
   "execution_count": null,
   "metadata": {},
   "outputs": [],
   "source": [
    "# A simple function for writing an xyz file\n",
    "def printxyz(coords, filename=\"test.xyz\", comment=\"Atomic coordinates\", scale=1.0, mode=\"w\"):\n",
    "    N = (coords.shape)[0]\n",
    "    print(\"Writing\", N, \"atomic coordinates to file\", filename)\n",
    "    f = open(filename,mode)\n",
    "    f.write(str(N) + '\\n')\n",
    "    f.write(comment + '\\n')\n",
    "    for i in range(N):\n",
    "        xyz = str(coords[i,0]*scale).rjust(16) +' '+ \\\n",
    "              str(coords[i,1]*scale).rjust(16) +' '+ \\\n",
    "              str(coords[i,2]*scale).rjust(16) \n",
    "        f.write('LJ ' + xyz + '\\n')\n",
    "    f.close()\n",
    "    return\n"
   ]
  },
  {
   "cell_type": "markdown",
   "metadata": {},
   "source": [
    "The starting geometry for the LJ clusters will be \"blocks\" with $N_1\\times N_2\\times N_3$ atoms on each side, at a distance $D$. We assume that, in the Lennard-Jones potential, $\\sigma=1$ and $\\epsilon=1$."
   ]
  },
  {
   "cell_type": "code",
   "execution_count": null,
   "metadata": {},
   "outputs": [],
   "source": [
    "# Define the starting geometry: a rectangular \"box\" with N1*N2*N3 atoms, spaced by D.\n",
    "# We slightly scamble the positions of the atoms, in order to \"break the symmetry\" of the box.\n",
    "# See the calls to no.random.normal(), below.\n",
    "# We do it because the optimization tends to get \"stuck\" in highly symmetric configurations.\n",
    "D=1.12\n",
    "N1, N2, N3 = 13, 1, 1,\n",
    "\n",
    "N = N1*N2*N3\n",
    "coords = np.ndarray([N,3])\n",
    "index = -1\n",
    "for i in range(N1):\n",
    "    x = i*D\n",
    "    for j in range(N2):\n",
    "        y = j*D\n",
    "        for k in range(N3):\n",
    "            z = k*D\n",
    "            index +=1\n",
    "            coords[index,0] = x + np.random.normal(loc=0.0, scale=0.05*D)\n",
    "            coords[index,1] = y + np.random.normal(loc=0.0, scale=0.05*D)\n",
    "            coords[index,2] = z + np.random.normal(loc=0.0, scale=0.05*D)\n",
    "            \n",
    "# Reshape the array, from a matrix [N,3] to a vector [3*N].\n",
    "# (1D vector of coordinates is expected by ULJ and ULJ_der functions, and by SciPy's optimization methods).\n",
    "coords1D = coords.reshape(3*N, order='C')\n",
    "\n",
    "# Compute the energy \n",
    "energy0 = ULJmany(coords1D)\n",
    "print(energy0)\n",
    "\n",
    "# Write out the starting structure and energy to another xyz file.\n",
    "comment = 'Starting LJ cluster with Energy '+str(energy0)\n",
    "printxyz(coords, filename='cluster_0.xyz', comment=comment)\n",
    "\n",
    "# Minimize the energy of the cluster\n",
    "result = opt.minimize(ULJmany, coords1D, method='CG', jac=ULJmany_der, tol=1.0e-5, options={'maxiter': 200, 'disp': True} )\n",
    "\n",
    "# Write out the optimized structure and energy to another xyz file.\n",
    "finalcoords1D = result.x\n",
    "finalenergy = result.fun\n",
    "finalcoords = finalcoords1D.reshape(N, 3, order='C')\n",
    "comment = 'Optimized LJ cluster with Energy '+str(finalenergy)\n",
    "printxyz(finalcoords, filename='cluster_final.xyz', comment=comment)\n"
   ]
  },
  {
   "cell_type": "markdown",
   "metadata": {},
   "source": [
    "# Lennard-Jones clusters: global optimization"
   ]
  },
  {
   "cell_type": "markdown",
   "metadata": {},
   "source": [
    "Now let us attempt to find the absolute minumum for a cluster of $N$ Lennard-Jones atoms. This is a **global optimization** problem, similar to that of the [traveling salesman](https://en.wikipedia.org/wiki/Travelling_salesman_problem). Another optimization problem of this type is that of [protein folding](https://en.wikipedia.org/wiki/Protein_folding). These problems are notoriously hard.\n",
    "\n",
    "We will use two methods implemented within [SciPy](https://docs.scipy.org/doc/scipy/reference/optimize.html?highlight=optimize#module-scipy.optimize):\n",
    "* [Differential Evolution (DE)](https://en.wikipedia.org/wiki/Differential_evolution), a method originally proposed by [Storn and Price](https://link.springer.com/article/10.1023/A:1008202821328) in 1997. This falls within the broader class of [evolutionary algorithms](https://en.wikipedia.org/wiki/Evolutionary_algorithm). This method does not require the gradient of the objective function (the cluster's potential energy).\n",
    "* [Basin Hopping (BH)](https://en.wikipedia.org/wiki/Basin-hopping), a method introduced by [Wales and Doye](https://pubs.acs.org/doi/10.1021/jp970984n), also in 1997. The method iterates by performing a random perturbation of the coordinates, performing a local optimization, and accepting or rejecting the new coordinates based on the minimized function value. The acceptance or rejection of a step is based on the Metropolis Monte Carlo algorithm, which depends on a fictitious temperature $T$ (more about this later, in this course). This method may or may not require derivative information in the local optimization steps, depending on the chosen minimization method (e.g., conjugate gradients or other).\n",
    "\n",
    "The paper by Wales and Doye is especially interesting for us, since it is explicitly devoted to the global minimum of LJ clusters, from two up to $N$=110 atoms.\n",
    "In the introduction of the paper, the authors point out that the number of local minima increases very quickly with $N$, and by extrapolation they estimate that this number could be as large as $10^{60}$ for $N=147$ (excluding the trivial $N!$ factor arising from permutations of the atoms). \n",
    "They also point out that the difficulty of the global optimization problem does not increase monotonically with the system size $N$. Some clusters are \"easy\" (e.g., for \"magic numbers\" $N$=13, 55, 147,...) because they have well-defined global minima with an [icosahedral](https://en.wikipedia.org/wiki/Regular_icosahedron) symmetry. Other cluster sizes are quite challenging (e.g., $N$=38,75,76,77,102,103,104) because their global minima have unusual structures, with a narrow \"basin\"."
   ]
  },
  {
   "cell_type": "code",
   "execution_count": null,
   "metadata": {
    "scrolled": true
   },
   "outputs": [],
   "source": [
    "# BASIN HOPPING (WALES AND DOYE).\n",
    "\n",
    "# Attempt to find the abolute minimum for a cluster of N LJ atoms.\n",
    "# We use \"reduced units\", so that in the LJ potential epsilon=1 and sigma=1.\n",
    "\n",
    "N = 13               # No. of atoms\n",
    "Ntry = N             # No. of random starting points\n",
    "rho0 = 0.1           # Initial density of atoms\n",
    "L = (N/rho0)**(1/3)  # Atoms are placed randomly inside a cube of size L.\n",
    "\n",
    "# define here the minimizer that will be used for the local optimizations\n",
    "minimizer_kwargs = {\"method\":'CG', \"jac\":ULJmany_der, \"tol\":1.0e-5,}\n",
    "\n",
    "Energies = []\n",
    "xyzfile = \"cluster_\"+str(N)+\"_BH.xyz\"\n",
    "mode = \"w\"\n",
    "for i in range(Ntry):\n",
    "    print()\n",
    "    print(\"BASIN HOPPING. Starting geometry no.\", i)\n",
    "    coords = L*np.random.random_sample((N,3)) - L/2\n",
    "    xyz = coords.reshape(3*N, order='C')\n",
    "    res = opt.basinhopping(ULJmany, xyz, niter=100, T=0.8, stepsize=0.5,\n",
    "            minimizer_kwargs=minimizer_kwargs, interval=50, disp=True)\n",
    "    xyz = res.x\n",
    "    energy = res.fun\n",
    "    print(\"Attempt no.:\", i, \"  Energy:\", energy)\n",
    "    Energies.append(energy)\n",
    "    coords = xyz.reshape(N, 3, order='C')\n",
    "    comment = 'Optimized LJ cluster with Energy '+str(energy)\n",
    "    printxyz(coords, filename=xyzfile, comment=comment, mode=mode)\n",
    "    mode = \"a\"\n",
    "Energies.sort()\n",
    "print(\"FINAL ENERGIES FROM B.H. ON LJ CLUSTERS, N=\", N)\n",
    "print(Energies)\n"
   ]
  },
  {
   "cell_type": "code",
   "execution_count": null,
   "metadata": {},
   "outputs": [],
   "source": [
    "# DEFFERENTIAL EVOLUTION (STORN AND PRICE).\n",
    "\n",
    "# Attempt to find the abolute minimum for a cluster of N LJ atoms.\n",
    "# We use \"reduced units\", so that in the LJ potential epsilon=1 and sigma=1.\n",
    "\n",
    "N = 13               # No. of atoms\n",
    "Ntry = N             # No. of random starting points\n",
    "rho0 = 0.1           # Initial number density of atoms\n",
    "L = (N/rho0)**(1/3)  # Atoms are placed randomly inside a cube of size L.\n",
    "\n",
    "bounds = 3*N*[(-L/2,+L/2)]  #  Bounds on the atom coordinates\n",
    "\n",
    "Energies = []\n",
    "xyzfile = \"cluster_\"+str(N)+\"_DE.xyz\"\n",
    "mode = \"w\"\n",
    "for i in range(Ntry):\n",
    "    print()\n",
    "    print(\"DIFFERENTIAL EVOLUTION. Starting geometry no.\", i)\n",
    "    res = opt.differential_evolution(ULJmany, bounds=bounds, strategy='best1bin',\n",
    "                maxiter=1000, popsize=15, tol=0.01, mutation=(0.5,1), recombination=0.7,\n",
    "                disp=False, polish=True, init='random')\n",
    "    xyz = res.x\n",
    "    energy = res.fun\n",
    "    print(\"Attempt no.:\", i, \"  Energy:\", energy)\n",
    "    Energies.append(energy)\n",
    "    coords = xyz.reshape(N, 3, order='C')\n",
    "    comment = 'Optimized LJ cluster with Energy '+str(energy)\n",
    "    printxyz(coords, filename=xyzfile, comment=comment, mode=mode)  \n",
    "    mode = \"a\"\n",
    "Energies.sort()\n",
    "print(\"FINAL ENERGIES FROM D.E. ON LJ CLUSTERS, N=\", N)\n",
    "print(Energies)\n",
    "  "
   ]
  },
  {
   "cell_type": "markdown",
   "metadata": {},
   "source": [
    "# Suggestions for further work"
   ]
  },
  {
   "cell_type": "markdown",
   "metadata": {},
   "source": [
    "Each of the following could evolve into a end-of-course project, to be discussed at the exam:\n",
    "* Perform a systematic study of the minima of LJ clusters for several $N$ values. Compare the results from different optimization algorithms. Compare the effect of changing some options within the global optimization algorithms. \n",
    "* Generalize the function for the LJ potential energy to the case where the atoms may be of different types (e.g., Ne and Xe), and characterize the resulting minima of the PES.\n",
    "* Extend the study to clusters described by different interaction potentials (e.g., Buckingham or Morse).\n",
    "* Etc. etc."
   ]
  },
  {
   "cell_type": "code",
   "execution_count": null,
   "metadata": {},
   "outputs": [],
   "source": []
  }
 ],
 "metadata": {
  "kernelspec": {
   "display_name": "Python 3",
   "language": "python",
   "name": "python3"
  },
  "language_info": {
   "codemirror_mode": {
    "name": "ipython",
    "version": 3
   },
   "file_extension": ".py",
   "mimetype": "text/x-python",
   "name": "python",
   "nbconvert_exporter": "python",
   "pygments_lexer": "ipython3",
   "version": "3.8.5"
  }
 },
 "nbformat": 4,
 "nbformat_minor": 4
}
