{
 "cells": [
  {
   "cell_type": "markdown",
   "metadata": {},
   "source": [
    "# Quantum chemistry practical\n",
    "Guido Raos, Politecnico di Milano, March 2021 (guido.raos@polimi.it)"
   ]
  },
  {
   "cell_type": "markdown",
   "metadata": {},
   "source": [
    "In this practical we will learn how to perform simple electronic structure calculations with the [ORCA code](https://orcaforum.kofo.mpg.de/app.php/portal). The code has an extensive manual. It is not necessary to read it all, but skimming though the first sections can be quite useful. Further \"unofficial\" information about the program can also be found on the [ORCA input library](https://sites.google.com/site/orcainputlibrary/).\n"
   ]
  },
  {
   "cell_type": "markdown",
   "metadata": {},
   "source": [
    "## Carbon monoxide - single point"
   ]
  },
  {
   "cell_type": "markdown",
   "metadata": {},
   "source": [
    "CO is a very interesting molecule: read about it on [Wikipedia](https://en.wikipedia.org/wiki/Carbon_monoxide) or in [this paper](https://doi.org/10.1002/jcc.20477). Here is the first paragraph from the introduction of the paper:\n",
    "> Describing the electronic structure of, and the nature of the bond in, carbon monoxide in terms of simple bonding models is not a trivial task because of the unusual chemical and physical properties of the molecule, the only monocoordinated carbon compound that is stable under normal conditions. It has been called “an isolated embarrassment for introductory chemistry teachers,” and it exhibits several surprising features: (i) the triple bond between the atoms is a very unusual atomic valence state for both atoms but particularly for oxygen; there is also a mismatch between the formal oxidation states of the atoms (+2 for carbon and −2 for oxygen) and the triple bond; (ii) the dipole moment of the molecule is small (0.11 D) with the negative end at the carbon atom although carbon is clearly less electronegative than oxygen; (iii) the bond dissociation energy (BDE) of CO (255.7 kcal/mol) is significantly higher than that of isoelectronic N2 (225.1 kcal/mol); (iv) the carbon–oxygen bond in CO becomes stronger when the carbon atom forms a σ bond with another atom but becomes weaker when the oxygen atom forms a σ bond with another atom. \n",
    "\n",
    "We will use it for our first ORCA calculation. This is the input (to be copied ot typed inside the input file `CO.rhf.inp`):\n",
    "```\n",
    "# A simple single point RHF calculation\n",
    "! RHF def2-svp LargePrint\n",
    "# Carbon Monoxide at the experimental geometry\n",
    "* xyz 0 1\n",
    "C 0 0 0\n",
    "O 0 0 1.128\n",
    "*\n",
    "\n",
    "```\n",
    "\n",
    "The code perfoms a single-point RHF calculation (the default).\n",
    "Run it from your command prompt (indicated below with `%>`). This should work on all opeating systems (windows, mac or linux):\n",
    "```\n",
    "%> orca CO.rhf.inp > CO.rhf.log\n",
    "```\n",
    "\n",
    "One the calculation has finished, open and take a close at the output file. Note that many other files have been generated. Here are some things to look for:\n",
    "* Information about the basis set (numer and type of basis functions).\n",
    "* No. of electrons, charge, multiplicity, etc.\n",
    "* Progress of the SCF cycles (energy and density change, etc.).\n",
    "* Has the SCF calculation converged? (look for the string `SUCCESS`).\n",
    "* The value of the total energy and its components.\n",
    "* What do the MO's look like? Inspect the orbital energies and the LCAO coefficients (can you see their symmetries?).\n",
    "* The Mulliken and Loewdin population analyses: what are the carges on the atoms?\n",
    "* The Mayer population analysis: what is the order of the bond between C and O?\n",
    "* The value of the calculated dipole moment. How does it compare with experiment (see above)?\n",
    "\n",
    "There are many ways of plotting the MO's and the total electron density. Try running this program from the command line:\n",
    "```\n",
    "%> orca_plot CO.rhf.gbw -i\n",
    "```\n",
    "The program reads the gbw (geometry, basis, wavefunction) and offers many different options. Note that the gbw is a binary file, so unlike the input and output files it is not human-readable.\n",
    "One possibility is to produce a _cube file_ (a standard format in molecular modelling, orginated by Gaussian), which contains the values of a function (e.g., the electron density) on regularly spaced 3D grid of points (cube files are ASCII, so you can open and inspect them with a text editor). One you have produced then, you can visualize the cube files using VMD or another graphics program. "
   ]
  },
  {
   "cell_type": "markdown",
   "metadata": {},
   "source": [
    "## Carbon monoxide - geometry optimization"
   ]
  },
  {
   "cell_type": "markdown",
   "metadata": {},
   "source": [
    "Our next step will be to attempt a geometry optimization. The program will compute the gradient of the total energy woth respect to the nuclear coordinates, and use this information to minimize the total energy. After a few optimization cycles, the calculation should converge to the energy minimum (zero gradient). Here is the input (to be inserted in a new file, such as `CO.rhf_opt.inp`):\n",
    "```\n",
    "# A simple RHF optimization and frequency calculation\n",
    "! RHF def2-SVP TightOpt\n",
    "! TightSCF\n",
    "! AllPop\n",
    "! Freq\n",
    "* xyz 0 1\n",
    "C 0 0 0\n",
    "O 0 0 1.3\n",
    "*\n",
    "```\n",
    "\n",
    "Some comments on the input:\n",
    "* We have deleted the `LargePrint` option, to get a more compact output. \n",
    "* The initial geometry is away from the experimental minimum (but not completely unrealistic!).\n",
    "* The `TightSCF` keyword controls the convergency of the SCF cycles, whereas the `TightOpt` keyword controls the geometry optimization (maximum value of the gradient, to declare the optimization successful).\n",
    "* The two previous keywords are necessary, in order to make the final frequency calculation reliable.\n",
    "* The frequency calculation is performed once, at the end of the optimization. It does not make much sense to do a frequency calculation away from a stationary point (a minimum or a saddle point on the potential energy surface). The frequency calculation requires the evaluation of the Hessian matrix (second derivative of the energy with respect to the nuclear coordinates). The evaluation of the Hessian is significantly more expensive that the evaluation of the gradient.\n",
    "* The geometry optimization of CO is guaranteed to converge to a minimum, because of its simplicity. This is not always the case for more complex, polyatomic molecules. In some cases, one might have to relax the convergence criterion (stardard `Opt` instead of `TightOpt`). The frequency calculation can be important, in order to check that the final geometry corresponds to a stable minimum (a saddle point has \"imaginary frequencies\", corresponding to the normal modes along the unstable coordinate).\n",
    "\n",
    "Run the program as before, for example:\n",
    "```\n",
    "%> orca CO.rhf_opt.inp > CO.rhf_opt.log\n",
    "```\n",
    "This should take a little longer, but not too much (less than a minute). Notice that many files have been produced by the calculation (below, `W%>` indicates a command to be executed under Windows, `U%>` a command to be executed under Unix-like Linux/Mac):\n",
    "```\n",
    "W%> dir CO.rhf_opt.*\n",
    "U%> ls CO.rhf_opt.*\n",
    "```\n",
    "(a useful reference for the line commands under all operating systems is https://ss64.com/).\n",
    "\n",
    "One the calculation has converged, take a look at the output:\n",
    "* Has the calculation converged? Look for the string `HURRAY`.\n",
    "* What is the value of the CO bond length? How does it compare to experiment?\n",
    "* What is the value of the calculated vibrational frequency? How does it compare to experiment?\n",
    "\n",
    "A good source of experimental data is the NIST chemistry webbook: https://webbook.nist.gov/chemistry/. Look for data on CO using the \"Formula\" option. In the case of diatomic molecules, in addition to standard chemical data (e.g. thermochemistry) there is a specialized section entitled \"Constants of diatomic molecules\", with very detailed and accurate gas-phase spectroscopic data."
   ]
  },
  {
   "cell_type": "markdown",
   "metadata": {},
   "source": [
    "## Carbon monoxide - further work"
   ]
  },
  {
   "cell_type": "markdown",
   "metadata": {},
   "source": [
    "Try doing a calculation with a correlated wavefunction, such as MP2:\n",
    "```\n",
    "# A simple MP2 optimization and frequency calculation\n",
    "! MP2 def2-SVP TightOpt NoFrozenCore\n",
    "! TightSCF\n",
    "! AllPop\n",
    "! Freq\n",
    "* xyz 0 1\n",
    "C 0 0 0\n",
    "O 0 0 1.128\n",
    "*\n",
    "```\n",
    "Note that the MP2 frequency calculation requires the `NoFrozenCore` option. Excitations from 1s orbitals of C and O will be included in the calculation. This is necessary for algorithmic issues, it should not be necessary from a \"chemical\" point of view. Luckily, this extra computational effort is not a big deal in this case.\n",
    "\n",
    "Once the calculation has finished, look again at the results and comare the with the RHF calculation. How has the equilibrium bond length, the dipole and the vibrational frequency of CO changed? Have the results improved, in comparison to experiment?\n",
    "\n",
    "Next, try using a larger basis set (e.g., def2-TZVP instead of def2-SVP). With and without electron correlation (RHF or MP2). Again, how do the results change?\n",
    "\n"
   ]
  },
  {
   "cell_type": "markdown",
   "metadata": {},
   "source": [
    "## Hydrogen peroxide (H$_2$O$_2$) - DFT optimization"
   ]
  },
  {
   "cell_type": "markdown",
   "metadata": {},
   "source": [
    "We now consider a slightly more complex molecule. Hydrogen peroxide is also quite interesting, _per se_. Have a look at  the [Wikipedia article](https://en.wikipedia.org/wiki/Hydrogen_peroxide). The molecule is small enough to be comfortably studied by highly correlated wavefunction-based methods (e.g., CCSD or CCSD(T)), with a large basis set. However, below we will switch to density functional theory. We will use the PBE functional, a pure GGA functional. This costs much less that hybrid functionals such as B3LYP and PBE0, which include a fraction of exact (Hartree-Fock) exchange\n",
    "\n",
    "Input file for a DFT geometry optimization:\n",
    "```\n",
    "# - A simple DFT optimization\n",
    "! RHF PBE RI def2-SVP def2/J TightOpt\n",
    "# - Add LJ-like correction for disperion interactions\n",
    "#! D3BJ\n",
    "! TightSCF\n",
    "# - Use implicit solvent model\n",
    "#! CPCM(Water)\n",
    "! PrintBasis\n",
    "! AllPop\n",
    "! Freq\n",
    "# - NMR chemical shifts - GIAO requires axiliary basis set\n",
    "! NMR\n",
    "* int 0 1\n",
    "O 0 0 0 0.0000   0.000   0.00\n",
    "O 1 0 0 1.5500   0.000   0.00\n",
    "H 2 1 0 1.0000 109.500   0.00\n",
    "H 1 2 3 1.0000 109.500  90.00\n",
    "*\n",
    "```\n",
    "\n",
    "Comments on the input file:\n",
    "* The `PBE` keyword implies a DFT calculation (despite of the `RHF` keyword preceding it).\n",
    "* The `RI` keyword implied a \"Resolution of the Indentity\" calculation. This is an approximate (but well tested, with minimum loss of accuracy) calculation, which used an auxiliary basis set (`def2/J`) in oder to speed up the evaluation of the two-electron integrals.\n",
    "* Two keywords have been commented, but may be uncommented in desired. `D3BJ` specifies usage of Grimme's empirical correction for dispersion (London) interactions. This is a long-range electron correlation effect, which is missing from most density functionals. The correction is unimportant in this case, but may be important in larger and flexible molecules, or when studying intermolecular interactions (e.g., between two H$_2$O$_2$ molecules). `CPCM(Water)` can be used to model the effect of a surrounding solvent, by the Conductor-like Polarizable Continuum Model. Other solvents can be used, in place of water (see the ORCA manual). Without this keyword, the program performs a standard gas-phase calculation.\n",
    "* After convergence, the program calculates the vibrational frequencies (`Freq` keyword) and the magnetic shielding tensors for all nuclei (`NMR` keyword).\n",
    "* The starting geometry is specified in \"internal coordinates\" (`int` keyword): bond lengths, bond angles, and dihedral angles. There is one line for each atom. The spatial relationship among them is described using a [Z-matrix](https://en.wikipedia.org/wiki/Z-matrix_(chemistry)) (the precise format of the Z-matrix depends on the program, e.g. Gaussian or ORCA or GAMESS-US).\n",
    "\n",
    "Run the calculation as before and open the output file, once it is complete:\n",
    "* Has the geometry optimization converged? Look for the string `HURRAY`.\n",
    "* How does the geometry compare with the experimental one? And the vibrational frequencies? And the dipole moment? Look for relavant data on the NIST web site(s): https://webbook.nist.gov/chemistry/ and the computational chemistry database https://cccbdb.nist.gov/alldata1.asp.\n",
    "* In the NMR part of the calculation, the ordinary \"chemical shifts\" of the nuclei can be obtained from the isotropic part of their full (paramagnetic + diamagnetic) shielding tensor: $(\\sigma_{11}+\\sigma_{22}+\\sigma_{33})/3$. Read the relevant part of the ORCA manual and look for the results in the output. Note: comparison with NMR spectra on H$_2$O$_2$ might be difficult, in comparison with the vibrational ones.\n",
    "\n",
    "Among the files produced by the geometry optimization, there should be one named `h2o2.dft_opt_trj.xyz` (or something similar, depending on the name of your input file). Open it with a text editor: it contains the total energy and geometry at each step of the optimization. The molecular geometries within the file can be visualized as a \"movie\" with VMD (try it!). In more complicated molecules, a geometry optimization may take hours or even days. In these cases, it is useful to \"keep an eye\" on the calculation, to make sure that nothing wrong is happening (and restart it from a different geometry or using different options, if necessary).\n",
    "\n",
    "In addition to looking at the change in the molecular geometry, it can be useful to monitor the energy change during (or after, in this case) the optimization. Is the energy decreasing steadily? Or does it increase or start oscillating after a few steps? Total energies can be inspected in the output or the trajectory file. It is even better to plot them. This can be done as follows.\n",
    "\n",
    "First of all, we need to collect all the energies in a \"clean\" file (see https://ss64.com/ for a description of the Windows and Linux/Mac commands):\n",
    "```\n",
    "W%> find \"Total Energy\" h2o2.dft_opt.log > energy.dat\n",
    "U%> grep \"Total Energy\" h2o2.dft_opt.log > energy.dat\n",
    "```\n",
    "Having done so, we can read and plot the data using NumPy and Matplotlib (move the `energy.dat` file to a different directory, if necessary):"
   ]
  },
  {
   "cell_type": "code",
   "execution_count": null,
   "metadata": {},
   "outputs": [],
   "source": [
    "import numpy as np\n",
    "import matplotlib.pyplot as plt\n",
    "%matplotlib inline\n",
    "\n",
    "Energies = np.loadtxt('energy.dat', skiprows=2, usecols=3)  # usecols=3 (in E_h) or usecols=5 (in eV).\n",
    "#print(Energies)\n",
    "Iteration = range(len(Energies))\n",
    "plt.plot(Iteration[0:], Energies[0:], 'r-o')\n",
    "plt.xlabel('Iteration')\n",
    "plt.ylabel('Energy')"
   ]
  },
  {
   "cell_type": "markdown",
   "metadata": {},
   "source": [
    "## Hydrogen peroxide (H$_2$O$_2$) - further work"
   ]
  },
  {
   "cell_type": "markdown",
   "metadata": {},
   "source": [
    "Study the effect on the results of one or two of these input parameters: basis set, DFT functional (or use a wavefunction method), inclusion of D3BJ correction, inclusion of CPCM model (water or other solvents). Look at the numbers and try to discuss them (do they change in a sensible way? is comparison with experimental results improved?).\n",
    "\n",
    "Plot and try to interpret/describe the molecular orbitals. These will be the \"canonical\" Kohn-Sham orbitals. \n",
    "Afterwards, localize the orbitals and re-plot plot them. The localization can be performed with this input file (read the ORCA manual for further information):\n",
    "```\n",
    "# - Orbital localization and potential-derived charges\n",
    "! RHF PBE RI def2-SVP def2/J TightOpt\n",
    "%loc    LocMet PipekMezey    end\n",
    "! chelpg\n",
    "! moread\n",
    "%moinp \"h2o2.dft_opt.gbw\"\n",
    "* xyzfile 0 1 h2o2.dft_opt.xyz\n",
    "```\n",
    "Notice that we have read the final geometry and molecular orbitals from the previous calculation from two external files.\n",
    "\n",
    "The `chelpg` keyword in the previous input requests the calculation of potential-derived charges. Compare these charges with those from the Mulliken and the Loewdin population analyses. Write a little Python script which, given a set of charges ($q_i$) and the atomic coordinates ($\\mathbf{r}_i$), computes the molecular dipole moment:\n",
    "\\begin{equation*}\n",
    " \\mathbf{\\mu} = \\sum_{i=1}^N q_i \\mathbf{r}_i\n",
    "\\end{equation*}\n",
    "How do the dipole moments calculated from these three sets of charges compare with the \"exact\" one, computed from the full electron density?\n"
   ]
  },
  {
   "cell_type": "markdown",
   "metadata": {},
   "source": [
    "## Larger problems"
   ]
  },
  {
   "cell_type": "markdown",
   "metadata": {},
   "source": [
    "Below are suggestions for larger problem, which could be submitted a part of the end-of-course examination. You may need to read parts of the ORCA manual, in order to perform some of these tasks.\n",
    "\n",
    "1. Find out how to perform constrained geometry optimizations in ORCA. Re-optimize the geometry under the constraint that the H-O-O-H dihedral remains equal to given value (e.g. 90°). Repeat the calculation at a whole set of values (e.g., from 0° to 180°, in steps of 15°). This task can also be automated as a \"potential energy scan\" (look for it within the ORCA manual). Collect the results and plot the total energy and any other interesting quantities (e.g., O-O bond length, atomic charges, etc.) as a function of this dihedral angle. Discuss the results.\n",
    "\n",
    "2. Construct a new input file with H$_2$O$_2$ surrounded by a reasonable number of water molecules (you can \"draw\" them using [Avogadro](https://avogadro.cc/)). Re-optimize the geometry, starting from several different initial coordinates. How many local energy minima can you find? Which is the most favourable one? Produce some plots to illustrate these results. Compare the computed properties of H$_2$O$_2$ in this \"explicit solvent\" with those from the \"implicit solvent\" calculation (see above).\n",
    "\n",
    "2. Use the previous methods to study one larger, completely different molecule. For example: diborane, N-methylacetamide, biphenyl, para-nitroanyline, nickel tetracarbonyl, etc.. Find information about the molecule and perform some interesting calculations on it, using the previous methods. Discuss the results."
   ]
  },
  {
   "cell_type": "code",
   "execution_count": null,
   "metadata": {},
   "outputs": [],
   "source": []
  }
 ],
 "metadata": {
  "kernelspec": {
   "display_name": "Python 3",
   "language": "python",
   "name": "python3"
  },
  "language_info": {
   "codemirror_mode": {
    "name": "ipython",
    "version": 3
   },
   "file_extension": ".py",
   "mimetype": "text/x-python",
   "name": "python",
   "nbconvert_exporter": "python",
   "pygments_lexer": "ipython3",
   "version": "3.8.5"
  }
 },
 "nbformat": 4,
 "nbformat_minor": 4
}
