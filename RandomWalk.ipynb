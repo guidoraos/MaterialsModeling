{
 "cells": [
  {
   "cell_type": "markdown",
   "metadata": {},
   "source": [
    "# Random Walks\n",
    "Guido Raos, Politecnico di Milano, May 2021 (guido.raos@polimi.it)"
   ]
  },
  {
   "cell_type": "markdown",
   "metadata": {},
   "source": [
    "The [random walk](https://en.wikipedia.org/wiki/Random_walk) is an interesting model for a number of phenomena, such as:\n",
    "* [Brownian motion](https://en.wikipedia.org/wiki/Brownian_motion);\n",
    "* diffusion of atoms/molecules in gases, liquids and solids;\n",
    "* the large-scale \"unperturbed\" conformation of polymer chains in the melt state;\n",
    "* the light intensity at a point due to many incoherent sources;\n",
    "* price fluctuations on the stock market;\n",
    "* etc. etc.\n",
    "\n",
    "In this notebook we are going simulate a random walk in one dimension. We will compare the results with the analytical expressions which can be derived in the discrete case (exact expressions, applicable to a small number of steps) and in the continuum limit (approximate expression, valid for a large number of small steps).\n",
    "\n",
    "A good introduction to random walks is contained in Chapter 1 of Reif's texbook (Federick Reif, \"Fundamentals of Statistical and Thermal Physics\", McGraw-Hill, 1965), and we shall follow its notation. It contains the mathematical derivations of the results presented below. Reif's book is really good as an introductory textbook, and I recommend it if you are interested in statistical mechanics. Reif died recently, here is an obituary: https://aapt.org/Membership/Frederick_Reif.cfm"
   ]
  },
  {
   "cell_type": "markdown",
   "metadata": {},
   "source": [
    "## Introduction and key equations"
   ]
  },
  {
   "cell_type": "markdown",
   "metadata": {},
   "source": [
    "We consider the problem of the random motion of a \"walker\" (a particle, a drunkard, etc.) moving in one dimension (along $x$). At $t=0$, the walker is at $x=0$. At regular intervals (every second, say) it takes one step of length $l$ along $x$, either in the positive (to the right) or the negative (to the left) direction. The direction taken at each step is random, with probabilities $p$ (to the right) and $q=1-p$ (to the left). The simplest case is that with $p=q=0.5$, in which there is symmetry between the left and right directions. A situation with $p \\neq q$ may indicate a \"bias\" in the walker's motion, which could be produced by a gradient in the potential energy (e.g., a drunkard trying to walk on a sloping road, a charged particle in an electric field, etc.). We assume that there is no correlation between the direction at one step and the direction at a previous steps (the walker has no \"memory\"). Further notation:\n",
    "* $n_1$, $n_2$: number of steps to the right and to the left\n",
    "* $N=n_1+n_2$: total number of steps\n",
    "* $m=n_1-n_2=2n_1-N$: total displacement (in units of $l$).\n",
    "\n",
    "The motion of an individual walker is totally unpredictable. But, if we consider a large number of such walkers (or the same walker restarting from the origin many times), we have a statistical problem. Thanks to the \"law of large numbers\", the probabilities of different outcomes become predictable, within a certain ensemble (which should always be defined). Below I give some key results from the probabilistic analysis of such random walks (see Reif for the mathematical derivations).\n",
    "\n",
    "### Discrete case\n",
    "\n",
    "The probability of taking $n_1$ steps to the right and $n_2=N-n_1$ steps to the left, in any order, is given by the *binomial distribution*:\n",
    "\\begin{equation*}\n",
    "W_N(n_1) = \\frac{N!}{n_1! (N-n_1)!} p^{n_1} q^{N-n_1}\n",
    "\\end{equation*}\n",
    "Note that the distribution is nomalized, for all $N$:\n",
    "\\begin{equation*}\n",
    "\\sum_{n_1=0}^N W_N(n_1) = (p+q)^N = 1\n",
    "\\end{equation*}\n",
    "\n",
    "It can be proven that mean number of right steps is:\n",
    "\\begin{equation*}\n",
    "\\overline{n_1} = \\sum_{n_1=0}^N W_N(n_1)n_1 = Np\n",
    "\\end{equation*}\n",
    "and the mean overall displacement is:\n",
    "\\begin{equation*}\n",
    "\\overline{m} = N(p-q)\n",
    "\\end{equation*}\n",
    "\n",
    "The variance or dispersion in the number of right steps is defined as:\n",
    "\\begin{equation*}\n",
    "\\overline{ \\left( \\Delta n_1 \\right)^2 } = \\overline{(n_1-\\overline{n_1})^2} = \\overline{n_1^2} - \\overline{n_1}^2 \n",
    "\\end{equation*}\n",
    "This is equal to:\n",
    "\\begin{equation*}\n",
    "\\overline{ \\left( \\Delta n_1 \\right)^2 } = Npq \n",
    "\\end{equation*}\n",
    "The variance in the overall displacement is then given by:\n",
    "\\begin{equation*}\n",
    "\\overline{ \\left( \\Delta m \\right)^2 } = 4 \\overline{ \\left( \\Delta n_1 \\right)^2 } = 4Npq \n",
    "\\end{equation*}\n",
    "\n",
    "### Continous case\n",
    "\n",
    "We now consider the situation with $N>>1$ (large number of steps). We assume that each step is small, in comparison with the shortest length scale of interest: $l<<dx$. In this case, the net displacement $x=ml$ can be treated as a continous variable.\n",
    "\n",
    "The probability that walker's displacement is between $x$ and $x+dx$ is given by the Gaussian distribution:\n",
    "\\begin{equation*}\n",
    "\\mathcal{P}(x)dx = \\frac{1}{\\sqrt{2\\pi\\sigma^2}} \\exp\\left[-\\frac{(x-\\mu)^2}{2\\sigma^2}\\right] dx .\n",
    "\\end{equation*}\n",
    "where:\n",
    "\\begin{eqnarray}\n",
    "\\mu & \\equiv & (p-q)Nl \\\\\n",
    "\\sigma & \\equiv & 2 \\sqrt{Npq} l \\\\\n",
    "\\end{eqnarray}\n",
    "Note that, while $W_N(n_1)$ is a probability, $\\mathcal{P}(x)$ is a *probability density*: it must be multiplied by a small interval $dx$ (or integrated over a larger integral) in order to obtain an actual probability.\n",
    "\n",
    "The distribution is normalized and has the following properties:\n",
    "\\begin{eqnarray}\n",
    "\\int_{-\\infty}^{+\\infty} \\mathcal{P}(x)dx &=& 1 \\\\\n",
    "\\overline{x} \\equiv \\int_{-\\infty}^{+\\infty} x \\mathcal{P}(x)dx &=& \\mu \\\\\n",
    "\\overline{(\\Delta x)^2} \\equiv \\overline{(x-\\overline{x})^2} = \\int_{-\\infty}^{+\\infty} (x-\\mu)^2 \\mathcal{P}(x)dx &=& \\sigma^2 \\, . \\\\\n",
    "\\end{eqnarray}\n",
    "\n",
    "```\n",
    " QUOTE\n",
    "```"
   ]
  },
  {
   "cell_type": "markdown",
   "metadata": {},
   "source": [
    "## Simulating a random walk in 1D"
   ]
  },
  {
   "cell_type": "markdown",
   "metadata": {},
   "source": [
    "This is a simple Python code which perfoms the simulation of a random walk. The code assumes that the step length is $l=1$."
   ]
  },
  {
   "cell_type": "code",
   "execution_count": 5,
   "metadata": {
    "scrolled": true
   },
   "outputs": [
    {
     "name": "stdout",
     "output_type": "stream",
     "text": [
      "No. of steps, p and q:   500, 0.5, 0.5\n",
      "Total number or walkers: 2000\n",
      "mu and xaver:            0.0, 0.584\n",
      "sigma and xvar:          22.360679774997898, 21.97113888718561\n"
     ]
    },
    {
     "data": {
      "image/png": "[encoded data removed]",
      "text/plain": [
       "<Figure size 432x288 with 1 Axes>"
      ]
     },
     "metadata": {
      "needs_background": "light"
     },
     "output_type": "display_data"
    }
   ],
   "source": [
    "import numpy as np\n",
    "import matplotlib.pyplot as plt\n",
    "#%matplotlib inline\n",
    "\n",
    "# Define the number of repetitions (the size of the statistical ensemble)\n",
    "M = 2000\n",
    "# Define the number of steps to be taken\n",
    "N = 500\n",
    "# Define the probability of a step to the right or to the left\n",
    "p = 0.5\n",
    "q = 1-p\n",
    "\n",
    "# Set up the RW array to accumulate the statistics final coordinates of the walker.\n",
    "RW = np.zeros(M)\n",
    "\n",
    "# The simulation goes on here\n",
    "rng = np.random.default_rng(23456) # The \"random\" is initialized by a seed.\n",
    "for walker in range(M):\n",
    "    x = 0.0\n",
    "    for step in range(N):\n",
    "        # extract a random number, on the [0,1) interval\n",
    "        r = rng.random()\n",
    "        # Take a step to the right if r<p, a step to the left if r>= p\n",
    "        if (r<p):\n",
    "            x = x+1.0\n",
    "        else:\n",
    "            x = x-1.0\n",
    "    # At the end of the walk, record the final position of the walker.\n",
    "    RW[walker] = x\n",
    "\n",
    "# Compute the average and variance\n",
    "# (note: here we could also have used numpy's built-in functions).\n",
    "xaver = 0.0\n",
    "for x in RW:\n",
    "    xaver += x\n",
    "xaver /= M\n",
    "xvar2 = 0.0\n",
    "for x in RW:\n",
    "    xvar2 += (x-xaver)**2\n",
    "xvar2 /= M    \n",
    "xvar = xvar2**0.5\n",
    "# These are the expected values, on the basis of the theory\n",
    "mu = N*(p-q)\n",
    "sigma = (4*N*p*q)**0.5\n",
    "\n",
    "# Print out and plot the results\n",
    "print(\"No. of steps, p and q:   \" + str(N)+\", \"+str(p)+\", \"+str(q) )\n",
    "print(\"Total number or walkers: \" + str(M) )\n",
    "print(\"mu and xaver:            \" + str(mu)+\", \"+str(xaver) )\n",
    "print(\"sigma and xvar:          \" + str(sigma)+\", \"+str(xvar) )\n",
    "    \n",
    "# Plot the results as a histogram. Pyplot has a built-in function to do it.\n",
    "fig, ax = plt.subplots()  # Create a figure containing a single axes.\n",
    "ax.hist( RW, density=True, bins=21, range=[-4*sigma,4*sigma], color=\"b\", align=\"mid\" )\n",
    "ax.set_xlabel('X', size=14)\n",
    "ax.set_ylabel('P(X)', size=14)\n",
    "ax.set_title(\"RANDOM WALK \"+str(N), size=16)\n",
    "fig.savefig(\"RandomWalk1D\"+'.pdf')\n"
   ]
  },
  {
   "cell_type": "markdown",
   "metadata": {},
   "source": [
    "## Extensions, questions, further work"
   ]
  },
  {
   "cell_type": "markdown",
   "metadata": {},
   "source": [
    "Here are a few ideas:\n",
    "* Find out how to fit a Gaussian function to a simulated distribution, and plot it on top of it so as to compare them.\n",
    "* Modify the code, so as to introduce some correlation between one step and the previous one. For example: the probability of moving to the right is equal to $p+\\delta$ if the previous step was also to the right, to $p-\\delta$ if the previous step was to the left ($\\delta$ has to be smaller than both $p$ an $q$, so as not to produce absurd results). Observe how this change affects the final distribution.\n",
    "* Define it a certain range of allowed $x$ values, and use it in combination with different \"boundary conditions\":\n",
    "    * \"wall\": when a walker reaches one end of the allowed range of $x$, it does not exit it but it is \"bounced back\"\n",
    "    * \"periodic\": when a walker reaches one end of the allowed range of $x$, it appears on the other end (as if it was walking on a circle).\n",
    "* Generalize the program to produce a random walk in two or three dimensions. At each time, a diffusing particle may take a random step along the $x$, $y$ or the $z$ directions."
   ]
  },
  {
   "cell_type": "markdown",
   "metadata": {},
   "source": [
    "## Addendum: the Central Limit Theorem"
   ]
  },
  {
   "cell_type": "markdown",
   "metadata": {},
   "source": [
    "The random walk problem can be generalized in many ways. One possibility is to admit that the individual steps are random numbers drawn from a continuous distribution, instead of being \"discrete\" (i.e., +1 or -1). All situations can be described in terms of an appropriate \"step distribution\" $w(x)$.\n",
    "\n",
    "Let $w(x)dx$ be the probability that a step taken by a walker is comprised between $x$ and $x+dx$. The former case, with probability $p$ for a right step (+1) and $(1-p)$ for a left step (-1), is described by the distribution:\n",
    "\\begin{equation*}\n",
    "w_1(x) = p\\delta(x-1) + (1-p)\\delta(x+1)\n",
    "\\end{equation*}\n",
    "where $\\delta$ is the Dirac delta function.\n",
    "Another possibility is to take a step with a uniform distribution over a certain interval:\n",
    "\\begin{equation*}\n",
    "w_2(x) =   \\begin{cases}\n",
    "    \\frac{1}{b-a}       & \\quad \\text{if } a \\leq x \\leq b\\\\\n",
    "    0  & \\quad \\text{if } x<a \\text{ or } x> b\n",
    "  \\end{cases}\n",
    "\\end{equation*}\n",
    "Yet another possibility is that each individual step follows itself a Gaussian distribution:\n",
    "\\begin{equation*}\n",
    "w_3(x) = \\frac{1}{\\sqrt{2\\pi s^2}} \\exp\\left[-\\frac{(x-r)^2}{2s^2}\\right]  \\, .\n",
    "\\end{equation*}\n",
    "\n",
    "One key question is: how do the properties of the final random walk change, if we change the distribution for the individual steps? The answer is: not at all, under certain conditions. According to the Central Limit Theorem (see Reif, page 39), \"*no matter what* the probability distribution $w(x)$ may be, as long as the steps are *statistically independent* and  $w(x)$ falls off rapidly enough as $|x|\\rightarrow \\infty$, the total displacement $x$ will be distributed according to the Gaussian law *if $N$ is sufficiently large*\". The distribution for the overall displacement will always be:\n",
    "\\begin{equation*}\n",
    "\\mathcal{P}(x) = \\frac{1}{\\sqrt{2\\pi\\sigma^2}} \\exp\\left[-\\frac{(x-\\mu)^2}{2\\sigma^2}\\right]\n",
    "\\end{equation*}\n",
    "where:\n",
    "\\begin{eqnarray}\n",
    "\\mu &=& Nr \\\\\n",
    "\\sigma^2 &=& Ns^2 \\, .\n",
    "\\end{eqnarray}\n",
    "In the two equations above, $r$ and $s^2$ are the mean and the variance of the individual step distributions. For $w_1(x)$ they are:\n",
    "\\begin{eqnarray*}\n",
    "r &=& 2p-1 \\\\\n",
    "s^2 &=& 4p(1-p) \\, .\n",
    "\\end{eqnarray*}\n",
    "For $w_2(x)$ they are:\n",
    "\\begin{eqnarray*}\n",
    "r &=& \\frac{a+b}{2} \\\\\n",
    "s^2 &=& \\frac{(b-a)^2}{12} \\, .\n",
    "\\end{eqnarray*}\n",
    "For $w_3(x)$, they already appear as such in the defining equation. The condition that \"$𝑤(𝑥)$ falls off rapidly enough\" is necessary to ensure that the variance of the step distribution has a finite value:\n",
    "\\begin{equation*}\n",
    "s^2 = \\int_{-\\infty}^{+\\infty}w(x)(x-r)^2dx < \\infty \\,.\n",
    "\\end{equation*}\n",
    "\n",
    "\n",
    "We can \"prove\" the Central Limit Theorem by simulating random walks with different step distributions, and comparing the overall distributions obtained from them. In order to have a meaningful comparison, all step distribution should have the same average ($r$) and variance ($s^2$)."
   ]
  },
  {
   "cell_type": "code",
   "execution_count": 7,
   "metadata": {},
   "outputs": [
    {
     "name": "stdout",
     "output_type": "stream",
     "text": [
      "Total number of steps:   50\n",
      "Total number or walkers: 10000\n",
      "Parameters for w_1:  p=0.5,  q=0.5\n",
      "Parameters for w_2:  a=-1.7320508075688772,  b=1.7320508075688772\n",
      "Parameters for w_3:  r=0.0,  s=1.0\n",
      "1. Number of lost walkers: 0\n",
      "1. mu and xaver:           0.0, 0.05520000000000003\n",
      "1. sigma and xvar:         7.0710678118654755, 7.098517659342689\n",
      "2. Number of lost walkers: 0\n",
      "2. mu and xaver:           0.0, -0.09559999999999982\n",
      "2. sigma and xvar:         7.0710678118654755, 7.050592928257878\n",
      "3. Number of lost walkers: 3\n",
      "3. mu and xaver:           0.0, 0.10863258977693288\n",
      "3. sigma and xvar:         7.0710678118654755, 7.090422041470316\n"
     ]
    },
    {
     "data": {
      "text/plain": [
       "Text(0, 0.5, 'P(X)')"
      ]
     },
     "execution_count": 7,
     "metadata": {},
     "output_type": "execute_result"
    },
    {
     "data": {
      "image/png": "[encoded data removed]",
      "text/plain": [
       "<Figure size 432x288 with 1 Axes>"
      ]
     },
     "metadata": {
      "needs_background": "light"
     },
     "output_type": "display_data"
    }
   ],
   "source": [
    "#%reset\n",
    "\n",
    "import numpy as np\n",
    "import matplotlib.pyplot as plt\n",
    "#%matplotlib inline\n",
    "\n",
    "# -- BEGINNING OF INPUT\n",
    "# Number of repetitions (the size of the statistical ensemble)\n",
    "M = 10000\n",
    "# Number of steps to be taken. It should be EVEN.\n",
    "N = 50\n",
    "# Probability of a step to the right\n",
    "p = 0.5\n",
    "q = 1-p\n",
    "# -- END OF INPUT\n",
    "\n",
    "# Make sure that N is an even number.\n",
    "N = (N//2)*2\n",
    "# Compute the parameters for the other step distributions\n",
    "r = 2*p-1\n",
    "s = 2*(p*(1-p))**0.5\n",
    "a = r - s*3.0**0.5\n",
    "b = r + s*3.0**0.5\n",
    "bma = b-a\n",
    "\n",
    "# Print out some information\n",
    "print(\"Total number of steps:   \" + str(N) )\n",
    "print(\"Total number or walkers: \" + str(M) )\n",
    "print(\"Parameters for w_1:  p=\"+str(p)+\",  \"+\"q=\"+str(q))\n",
    "print(\"Parameters for w_2:  a=\"+str(a)+\",  \"+\"b=\"+str(b))\n",
    "print(\"Parameters for w_3:  r=\"+str(r)+\",  \"+\"s=\"+str(s))\n",
    "\n",
    "# Estimate the width of the \"box\" needed to accumulate the statistics\n",
    "mu = r*N\n",
    "sigma = s*N**0.5\n",
    "xrange = 8*sigma + 2*mu\n",
    "          \n",
    "# Set up the RW array to accumulate the statistics.\n",
    "# Row 0 of RW contains the x-coordinates of the points visited by the walker (center of \"bins\").\n",
    "# To avoid the odd/even problem, we use bins of width 2 to accumulate the results.\n",
    "# Rows 1, 2 & 3 of RW contain the final distributions from steps of type 1, 2 & 3.\n",
    "# The size of the array is half of xrange (because each bin has width 2), and should be an even number.\n",
    "size = int(xrange//4 * 2)\n",
    "RW = np.zeros([4,size])\n",
    "x0 = -size\n",
    "for i in range(size):\n",
    "    RW[0,i] = x0 + i*2\n",
    "\n",
    "# The simulation goes on here.\n",
    "# The three simulations are conducted \"in parallel\":\n",
    "# x1, x2 and x3 are the coordinates of walker moving according to w_1, w_2 and w_3\n",
    "rng = np.random.default_rng()\n",
    "Nlost1 = Nlost2 = Nlost3 = 0\n",
    "norm1 = norm2 = norm3 = 0\n",
    "for walker in range(M):\n",
    "    x1 = x2 = x3 = 0\n",
    "    for step in range(N):\n",
    "        # extract three random numbers from the appropriate distributions\n",
    "        r1 = rng.random()\n",
    "        r2 = rng.random()*bma + a\n",
    "        r3 = rng.normal(loc=r, scale=s)\n",
    "        # w_1: Take a step to the right if r1<p, a step to the left if r1>= p\n",
    "        if (r1<p):\n",
    "            x1 = x1 + 1.0\n",
    "        else:\n",
    "            x1 = x1 - 1.0\n",
    "        # w_2 and w_3\n",
    "        x2 = x2 + r2\n",
    "        x3 = x3 + r3        \n",
    "    # At the end of the walk, record the final position of the walkers and put the in the appropriate \"bin\".\n",
    "    # Make a note of the number of times when the walker has \"gone too far\" and exited the expected interval.\n",
    "    i1 = int(round((x1-x0)/2))\n",
    "    if i1>0 and i1<size:\n",
    "        RW[1,i1] += 1\n",
    "    else:\n",
    "        Nlost1 +=1\n",
    "    i2 = int(round((x2-x0)/2))\n",
    "    if i2>0 and i2<size:\n",
    "        RW[2,i2] += 1\n",
    "    else:\n",
    "        Nlost2 +=1\n",
    "    i3 = int(round((x3-x0)/2))\n",
    "    if i3>0 and i3<size:\n",
    "        RW[3,i3] += 1\n",
    "    else:\n",
    "        Nlost3 +=1\n",
    "\n",
    "# A little bit of post-processing\n",
    "# Normalize the final distribution\n",
    "RW[1,:] /= (M - Nlost1)\n",
    "RW[2,:] /= (M - Nlost2)\n",
    "RW[3,:] /= (M - Nlost3)\n",
    "# Compute the average and variance\n",
    "xaver1 = xaver2 = xaver3 = 0.0\n",
    "for i in range(size):\n",
    "    xaver1 += RW[1,i] * RW[0,i]\n",
    "    xaver2 += RW[2,i] * RW[0,i]\n",
    "    xaver3 += RW[3,i] * RW[0,i]\n",
    "xvar1 = xvar2 = xvar3 = 0.0\n",
    "for i in range(size):\n",
    "    xvar1 += RW[1,i] * (RW[0,i]-xaver1)**2\n",
    "    xvar2 += RW[2,i] * (RW[0,i]-xaver2)**2\n",
    "    xvar3 += RW[3,i] * (RW[0,i]-xaver3)**2\n",
    "xvar1 = xvar1**0.5\n",
    "xvar2 = xvar2**0.5\n",
    "xvar3 = xvar3**0.5\n",
    "\n",
    "# Print out and plot the results\n",
    "print(\"1. Number of lost walkers: \" + str(Nlost1) )\n",
    "print(\"1. mu and xaver:           \" + str(mu)+\", \"+str(xaver1) )\n",
    "print(\"1. sigma and xvar:         \" + str(sigma)+\", \"+str(xvar1) )\n",
    "print(\"2. Number of lost walkers: \" + str(Nlost2) )\n",
    "print(\"2. mu and xaver:           \" + str(mu)+\", \"+str(xaver2) )\n",
    "print(\"2. sigma and xvar:         \" + str(sigma)+\", \"+str(xvar2) )\n",
    "print(\"3. Number of lost walkers: \" + str(Nlost3) )\n",
    "print(\"3. mu and xaver:           \" + str(mu)+\", \"+str(xaver3) )\n",
    "print(\"3. sigma and xvar:         \" + str(sigma)+\", \"+str(xvar3) )\n",
    "plt.plot(RW[0,:], RW[1,:], 'r-o')\n",
    "plt.plot(RW[0,:], RW[2,:], 'b-+')\n",
    "plt.plot(RW[0,:], RW[3,:], 'g-*')\n",
    "plt.xlabel('X')\n",
    "plt.ylabel('P(X)')"
   ]
  },
  {
   "cell_type": "code",
   "execution_count": null,
   "metadata": {},
   "outputs": [],
   "source": []
  }
 ],
 "metadata": {
  "kernelspec": {
   "display_name": "Python 3",
   "language": "python",
   "name": "python3"
  },
  "language_info": {
   "codemirror_mode": {
    "name": "ipython",
    "version": 3
   },
   "file_extension": ".py",
   "mimetype": "text/x-python",
   "name": "python",
   "nbconvert_exporter": "python",
   "pygments_lexer": "ipython3",
   "version": "3.8.5"
  }
 },
 "nbformat": 4,
 "nbformat_minor": 4
}
