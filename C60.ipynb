{
 "cells": [
  {
   "cell_type": "markdown",
   "metadata": {},
   "source": [
    "# C$_{60}$: Buckminsterfullerene\n",
    "Guido Raos, Politecnico di Milano, April 2025 (guido.raos@polimi.it)"
   ]
  },
  {
   "cell_type": "markdown",
   "metadata": {},
   "source": [
    "In this notebook we will familiarize ourselves with C$_{60}$, the prototypical [fullerene](https://en.wikipedia.org/wiki/Fullerene). In 1996, Harold Kroto, Robert Curl and Richard Smalley were awarded the Chemistry Nobel Prize for its discovery (see [this paper](https://www.nature.com/articles/318162a0) in Nature in 1985, from which I have borrowed the title). This discovery may be considered a starting point for the subsequent development of \"nanotechnologies\" and \"nanomaterials\".  \n",
    "\n",
    "We will use some computationally cheap semiempirical DFT and HF methods implemented within ORCA to determine:\n",
    "* Its minimum-energy geometry and vibrational frequencies;\n",
    "* The interaction energy between two fullerene molecules;\n",
    "* The energies of its low-lying electronic states (if I/we have time...)."
   ]
  },
  {
   "cell_type": "markdown",
   "metadata": {},
   "source": [
    "## Structure of C$_{60}$"
   ]
  },
  {
   "attachments": {},
   "cell_type": "markdown",
   "metadata": {},
   "source": [
    "The C$_{60}$ molecule is *almost* spherical, just like a soccer ball:\n",
    "\n",
    "![soccer ball](https://upload.wikimedia.org/wikipedia/commons/1/1d/Football_Pallo_valmiina-cropped.jpg)\n",
    "\n",
    "The picture of the soccer ball highlights that some faces are pentagonal, others hexagonal. In *all* fullerenes (sphere-like carbon cages with formula C$_n$, with $n \\ge 12$), the number of pentagons is exactly 12 (independently of $n$). This can be derived from [Euler's theorem](https://en.wikipedia.org/wiki/Euler_characteristic), which states that the number of vertices ($v$), edges ($e$) and faces ($f$) in a convex polyhedron are related by:\n",
    "\n",
    "$v - e + f = 2$\n",
    "\n",
    "(the proof requires one additional \"chemical\" assumption, that all carbon atoms are hybridized $sp^2$ and therefore form exactly three bonds).\n",
    "\n",
    "**Your turn: can you prove it?** \\[Hint: express $v$, $e$ and $p$ as a function of the number of pentagons ($p$) and hexagons ($h$), and see where this leads you\\].\n",
    "\n",
    "Note that C$_{60}$ is the smallest fullerene where the pentagons do not share any edges. Edge-sharing pentagons introduce some additional strain in the structure of fullerenes.\n"
   ]
  },
  {
   "cell_type": "markdown",
   "metadata": {},
   "source": [
    "As a side note, it is interesting to observe that also many viruses have a fullerene-like capsid (the capsid is protein shell enclosing the nucleic acids, can is disassembled when the virus manages to enter a cell and infects it):\n",
    "\n",
    "![viruses](https://cdn.rcsb.org/pdb101/motm/200/200-Quasisymmetry_in_Icosahedral_Viruses-Quasisymmetry.jpg)\n",
    "\n",
    "Check out the PDB-101 web site for further information: https://pdb101.rcsb.org/motm/200"
   ]
  },
  {
   "cell_type": "markdown",
   "metadata": {},
   "source": [
    "The symmetry of C$_{60}$ is described by the $I_h$ point group, the same as an [icosahedron](https://en.wikipedia.org/wiki/Regular_icosahedron).\n",
    "Several properties can be derived by **group theory** (see e.g. the Wikipedia article on [molecular symmetry](https://en.wikipedia.org/wiki/Molecular_symmetry)), based on the knowledge of its symmetry alone (i.e., without any need to know its exact geometry or even its chemical composition). For example, the \"character tables\" of the group tell us that it admits up five-fold degeneracy of its molecular orbitals and its vibrational modes:\n",
    "* http://symmetry.jacobs-university.de/cgi-bin/group.cgi?group=906&option=4\n",
    "* http://gernot-katzers-spice-pages.com/character_tables/Ih.html\n",
    "\n",
    "Three- and four-fold degeneracies are also possible, but not two-fold ones.\n",
    "If C$_{60}$ were a perfect sphere, its symmetry group would be \"O(3)\" (a continuous group). In this case, its molecular orbitals would have the same symmetries and degeneracies of atomic orbitals, i.e. they would be of type $s$ (totally symmetric, non-degenerate), $p$ (3-fold degenerate), $d$ (5-fold degenerate), $f$ (7-fold generate), etc. "
   ]
  },
  {
   "cell_type": "markdown",
   "metadata": {},
   "source": [
    "A starting structure (with atomic coordinates) for the C$_{60}$ molecule can be downloaded from (for example):\n",
    "* https://nanotube.msu.edu/fullerene/  (.xyz file)\n",
    "* https://www.chemspider.com/Chemical-Structure.110185.html  (.mol file)\n",
    "\n",
    "Download the first one and save it in the currect directory."
   ]
  },
  {
   "cell_type": "code",
   "execution_count": 8,
   "metadata": {},
   "outputs": [],
   "source": [
    "import numpy as np\n",
    "import scipy.optimize as opt\n",
    "import matplotlib.pyplot as plt"
   ]
  },
  {
   "cell_type": "code",
   "execution_count": 9,
   "metadata": {
    "scrolled": true
   },
   "outputs": [
    {
     "name": "stdout",
     "output_type": "stream",
     "text": [
      "(60, 3)\n",
      "Molecular center (old): [-0.00226167  0.005785   -0.00843333]\n",
      "Molecular center (new): [-1.74050589e-17  7.26270895e-17  1.48029737e-17]\n",
      "Molecular 'bare' radius: 3.442473449390457\n",
      "Molecular 'dressed' radius: 5.142473449390457\n"
     ]
    }
   ],
   "source": [
    "# No need to use complicated file-reading instructions in this case\n",
    "c60coords = np.loadtxt(\"C60-Ih.xyz\",skiprows=2, usecols=(1,2,3))\n",
    "print( np.shape(c60coords) )\n",
    "nc = np.shape(c60coords)[0]\n",
    "\n",
    "#print(c60coords)\n",
    "center = np.average( c60coords, axis=0)\n",
    "print(\"Molecular center (old):\", center)\n",
    "c60coords -= center\n",
    "#print(c60coords)\n",
    "center = np.average( c60coords, axis=0)\n",
    "print(\"Molecular center (new):\", center)\n",
    "radius = 0\n",
    "for c in c60coords:\n",
    "    dist = np.sqrt( c[0]**2 + c[1]**2 + c[2]**2 )   # We could have used numpy.linalg.norm\n",
    "    radius += dist\n",
    "radius /= nc\n",
    "print(\"Molecular 'bare' radius:\", radius)\n",
    "dradius = radius + 1.7  # Add Van der Waals radius of C\n",
    "print(\"Molecular 'dressed' radius:\", dradius)\n"
   ]
  },
  {
   "cell_type": "markdown",
   "metadata": {},
   "source": [
    "We will optimize the structure of C60 using the \"GNF2-XTB\" method by the group of S. Grimme (Germany). This can be described as a semiempirical DFT method, combining low computational cost with the capability to describe molecular geometries and non-bonded interactions reasonably well.\n",
    "\n",
    "Here is some basic information, coming from this review:\n",
    "C. Bannwarth, et al. \"Extended Tight-Binding Quantum Chemistry Methods\". *WIREs Computational Molecular Science* **2021**, 11 (2), e1493. https://doi.org/10.1002/wcms.1493.\n",
    "\n",
    "\n",
    "> ...The renaissance of semiempirical methods in the last 20 years was mainly caused by the development of density functional tight binding (DFTB) methods by Seifert, Elstner, Frauenheim, and coworkers. The DFTB methods combine the efficiency of the old ZDO type minimal basis set methods with the higher (compared to a Hartree–Fock, HF) accuracy of DFT as the underlying machinery.\n",
    "> \n",
    "> ...Mainly due to the use of a small minimal AO basis set to express the simplified Kohn–Sham (KS) equations analytically, not all desired properties can be described at a similar target accuracy. The computation of accurate chemical bond or reaction energies is particularly difficult at any semiempirical level...\n",
    "> \n",
    "> The GFNn-xTB methods (n = 0, 1, 2, see below) are designed from the very beginning as special purpose tools focusing on molecular properties which can relatively easily and in a physically sound manner be described at low-level, namely geometries, (vibrational) frequencies, and noncovalent interactions (NCIs) leading to the acronym GFN. Chemical energies (stronger interactions) are not used as primary training data but merely define important cross-checks...\"\n",
    "\n",
    "See [the ORCA manual](https://www.faccts.de/docs/orca/6.0/manual/contents/detailed/model.html#semi-empirical-tight-binding-methods-grimme-s-gfn0-xtb-gfn-xtb-and-gfn2-xtb) for instructions on using the XTB family of methods within ORCA. (On my Windows PC, I only had to copy the file \"C:\\ORCA_6.0.1\\xtb-6.7.1pre\\xtb.exe\" to \"C:\\ORCA_6.0.1\\otool_xtb,.exe\").\n"
   ]
  },
  {
   "cell_type": "code",
   "execution_count": 11,
   "metadata": {},
   "outputs": [
    {
     "name": "stdout",
     "output_type": "stream",
     "text": [
      " Il volume nell'unit… C Š Windows\n",
      " Numero di serie del volume: 4E52-4D65\n",
      "\n",
      " Directory di C:\\Users\\raos\\OneDrive - Politecnico di Milano\\Documenti\\GUIDO\\Didattica\\MolecularModeling\\Notebooks\\C60\n",
      "\n",
      "08/04/2025  09:49             7'407 C60_C60.inp\n",
      "08/04/2025  09:49             3'395 C60_opt.inp\n",
      "               2 File         10'802 byte\n",
      "               0 Directory  618'149'838'848 byte disponibili\n"
     ]
    }
   ],
   "source": [
    "# Write an ORCA input file with the desired geometry and input parameters\n",
    "# Here we will use a semiempirical DFT method (the GNF2-XTB by the group of Grimme)\n",
    "\n",
    "with open('C60_opt.inp', 'w') as f:\n",
    "    input1 = \"# My ORCA input\\n\" + \"! GFN2-XTB TightSCF TightOpt PrintMOs freq\\n\" + \"* xyz 0 1\\n\"\n",
    "    f.write(input1)\n",
    "    for c in c60coords:\n",
    "        line = \"C \" + str(c[0]) + \" \" + str(c[1]) + \" \" + str(c[2]) + \"\\n\"\n",
    "        f.write(line)\n",
    "    input2 = \"*\"\n",
    "    f.write(input2)\n",
    "\n",
    "# Check that file has been written\n",
    "!dir *.inp"
   ]
  },
  {
   "cell_type": "code",
   "execution_count": 12,
   "metadata": {
    "scrolled": true
   },
   "outputs": [],
   "source": [
    "orca_exe  = 'C:\\\\ORCA_6.0.1\\\\orca.exe'\n",
    "\n",
    "def run_orca(input_file):\n",
    "    print(\"Running ORCA calculation for\", input_file)\n",
    "    output_file = input_file.replace(\".inp\", \".log\")\n",
    "    # the \"!\" character sends the line as an instruction to the operating system\n",
    "    !{orca_exe} {input_file} > {output_file}      \n",
    "    print(\"Calculation completed. Output written to\", output_file)\n",
    "    return output_file\n"
   ]
  },
  {
   "cell_type": "code",
   "execution_count": 13,
   "metadata": {
    "scrolled": true
   },
   "outputs": [
    {
     "name": "stdout",
     "output_type": "stream",
     "text": [
      "Running ORCA calculation for C60_opt.inp\n",
      "Calculation completed. Output written to C60_opt.log\n",
      "-128.32549568149\n",
      "-128.41442448897\n",
      "-128.45628513108\n",
      "-128.46312540255\n",
      "-128.46348074281\n",
      "-128.46351833649\n",
      "-128.46352517448\n",
      "-128.46352651284\n",
      "The optimization was successful!\n",
      "Final energy of optimized molecule: -128.46352651284\n"
     ]
    }
   ],
   "source": [
    "output_file = run_orca(\"C60_opt.inp\")\n",
    "\n",
    "with open(output_file) as f:\n",
    "    success = False\n",
    "    for line in f:\n",
    "        if \"FINAL SINGLE POINT ENERGY\" in line:\n",
    "            ls = line.split()\n",
    "            energy1 = float( ls[-1] )\n",
    "            print(energy1)\n",
    "        elif \"HURRAY\" in line:\n",
    "            success = True\n",
    "            break\n",
    "     \n",
    "if success:\n",
    "    print(\"The optimization was successful!\")\n",
    "    print(\"Final energy of optimized molecule:\", energy1)\n",
    "else:\n",
    "    print(\"The optimization was NOT successful!\")\n"
   ]
  },
  {
   "cell_type": "markdown",
   "metadata": {},
   "source": [
    "Let us inspect the output:\n",
    "* How close are the final C-C bond lengths, compared to the starting/experimental ones?\n",
    "* Are these bonds identical? Why?\n",
    "* Note down the energies of the HOMO and LUMO energies, and the HOMO-LUMO gap. Are these energy levels *exactly* or *approximately* degenerate? Why?\n",
    "* Look at the vibrational frequencies and animate a few the corresponding modes... There are many of them!\n",
    "\n",
    "Note that only a few vibrational transitions are IR-allowed (i.e., have a non-zero intensity in the IR spectrum). Some others will be Raman-allowed (they are mutually exclusive because the molecule has a center of symmetry, see https://en.wikipedia.org/wiki/Rule_of_mutual_exclusion). The ORCA output (\"C60_opt\" file) does not contain the IR intensities, but these can be found inside the \"C60_opt.vibspectrum\" file.\n",
    "\n",
    "Note also that ORCA makes very limited use of symmetry and, due to numerical noise in the definition of the atomic coordinates, our C$_{60}$ molecule is slightly asymmetric, even in the final optimized structure. Therefore, all the vibrational modes in the \"C60_opt.vibspectrum\" file are classified as \"A\" (the irreducible representation for the \"C1\" point group, i.e. no symmetry)."
   ]
  },
  {
   "cell_type": "markdown",
   "metadata": {},
   "source": [
    "## Interaction of two C$_{60}$ molecules"
   ]
  },
  {
   "cell_type": "markdown",
   "metadata": {},
   "source": [
    "We want to compute the interaction between two C$_{60}$, as a function of their center-to-center distance.\n",
    "We will assume the molecules to be rigid and neglect the (possible, but small) changes in their molecular geometries as a function of distance.\n",
    "For the moment, we will also neglect the orientation-dependence of the interaction (the molecules are not truly spherical)."
   ]
  },
  {
   "cell_type": "code",
   "execution_count": 17,
   "metadata": {
    "scrolled": true
   },
   "outputs": [
    {
     "name": "stdout",
     "output_type": "stream",
     "text": [
      "Molecular 'bare' radius: 3.524219742534254\n",
      "Molecular 'dressed' radius: 5.224219742534254\n"
     ]
    }
   ],
   "source": [
    "# We first re-read the coordinates of the optimized molecule.\n",
    "\n",
    "c60coords = np.loadtxt(\"C60_opt.xyz\",skiprows=2, usecols=(1,2,3))\n",
    "nc = np.shape(c60coords)[0]\n",
    "#print(c60coords)\n",
    "center = np.average( c60coords, axis=0)\n",
    "c60coords -= center\n",
    "radius = 0\n",
    "for c in c60coords:\n",
    "    dist = np.sqrt( c[0]**2 + c[1]**2 + c[2]**2 )   # We could have used numpy.linalg.norm\n",
    "    radius += dist\n",
    "radius /= nc\n",
    "print(\"Molecular 'bare' radius:\", radius)\n",
    "dradius = radius + 1.7  # Add Van der Waals radius of C\n",
    "print(\"Molecular 'dressed' radius:\", dradius)\n"
   ]
  },
  {
   "cell_type": "code",
   "execution_count": 18,
   "metadata": {},
   "outputs": [
    {
     "name": "stdout",
     "output_type": "stream",
     "text": [
      "\n",
      "The C60-C60 distance is: 8.75\n",
      "Running ORCA calculation for C60_C60.inp\n",
      "Calculation completed. Output written to C60_C60.log\n",
      "\n",
      "The C60-C60 distance is: 9.0\n",
      "Running ORCA calculation for C60_C60.inp\n",
      "Calculation completed. Output written to C60_C60.log\n",
      "\n",
      "The C60-C60 distance is: 9.25\n",
      "Running ORCA calculation for C60_C60.inp\n",
      "Calculation completed. Output written to C60_C60.log\n",
      "\n",
      "The C60-C60 distance is: 9.5\n",
      "Running ORCA calculation for C60_C60.inp\n",
      "Calculation completed. Output written to C60_C60.log\n",
      "\n",
      "The C60-C60 distance is: 9.75\n",
      "Running ORCA calculation for C60_C60.inp\n",
      "Calculation completed. Output written to C60_C60.log\n",
      "\n",
      "The C60-C60 distance is: 10.0\n",
      "Running ORCA calculation for C60_C60.inp\n",
      "Calculation completed. Output written to C60_C60.log\n",
      "\n",
      "The C60-C60 distance is: 10.25\n",
      "Running ORCA calculation for C60_C60.inp\n",
      "Calculation completed. Output written to C60_C60.log\n",
      "\n",
      "The C60-C60 distance is: 10.5\n",
      "Running ORCA calculation for C60_C60.inp\n",
      "Calculation completed. Output written to C60_C60.log\n",
      "\n",
      "The C60-C60 distance is: 10.75\n",
      "Running ORCA calculation for C60_C60.inp\n",
      "Calculation completed. Output written to C60_C60.log\n",
      "\n",
      "The C60-C60 distance is: 11.0\n",
      "Running ORCA calculation for C60_C60.inp\n",
      "Calculation completed. Output written to C60_C60.log\n",
      "\n",
      "The C60-C60 distance is: 11.25\n",
      "Running ORCA calculation for C60_C60.inp\n",
      "Calculation completed. Output written to C60_C60.log\n",
      "\n",
      "The C60-C60 distance is: 11.5\n",
      "Running ORCA calculation for C60_C60.inp\n",
      "Calculation completed. Output written to C60_C60.log\n",
      "\n",
      "The C60-C60 distance is: 11.75\n",
      "Running ORCA calculation for C60_C60.inp\n",
      "Calculation completed. Output written to C60_C60.log\n",
      "\n",
      "The C60-C60 distance is: 12.0\n",
      "Running ORCA calculation for C60_C60.inp\n",
      "Calculation completed. Output written to C60_C60.log\n",
      "\n",
      "The C60-C60 distance is: 12.25\n",
      "Running ORCA calculation for C60_C60.inp\n",
      "Calculation completed. Output written to C60_C60.log\n",
      "\n",
      "The C60-C60 distance is: 12.5\n",
      "Running ORCA calculation for C60_C60.inp\n",
      "Calculation completed. Output written to C60_C60.log\n",
      "\n",
      "The C60-C60 distance is: 12.75\n",
      "Running ORCA calculation for C60_C60.inp\n",
      "Calculation completed. Output written to C60_C60.log\n",
      "\n",
      "The C60-C60 distance is: 13.0\n",
      "Running ORCA calculation for C60_C60.inp\n",
      "Calculation completed. Output written to C60_C60.log\n",
      "\n",
      "The C60-C60 distance is: 13.25\n",
      "Running ORCA calculation for C60_C60.inp\n",
      "Calculation completed. Output written to C60_C60.log\n",
      "\n",
      "The C60-C60 distance is: 13.5\n",
      "Running ORCA calculation for C60_C60.inp\n",
      "Calculation completed. Output written to C60_C60.log\n",
      "\n",
      "The C60-C60 distance is: 13.75\n",
      "Running ORCA calculation for C60_C60.inp\n",
      "Calculation completed. Output written to C60_C60.log\n",
      "\n",
      "The C60-C60 distance is: 14.0\n",
      "Running ORCA calculation for C60_C60.inp\n",
      "Calculation completed. Output written to C60_C60.log\n",
      "\n",
      "The C60-C60 distance is: 14.25\n",
      "Running ORCA calculation for C60_C60.inp\n",
      "Calculation completed. Output written to C60_C60.log\n",
      "\n",
      "The C60-C60 distance is: 14.5\n",
      "Running ORCA calculation for C60_C60.inp\n",
      "Calculation completed. Output written to C60_C60.log\n",
      "\n",
      "The C60-C60 distance is: 14.75\n",
      "Running ORCA calculation for C60_C60.inp\n",
      "Calculation completed. Output written to C60_C60.log\n",
      "\n",
      "The C60-C60 distance is: 15.0\n",
      "Running ORCA calculation for C60_C60.inp\n",
      "Calculation completed. Output written to C60_C60.log\n",
      "\n",
      "The C60-C60 distance is: 15.25\n",
      "Running ORCA calculation for C60_C60.inp\n",
      "Calculation completed. Output written to C60_C60.log\n",
      "\n",
      "The C60-C60 distance is: 15.5\n",
      "Running ORCA calculation for C60_C60.inp\n",
      "Calculation completed. Output written to C60_C60.log\n",
      "\n",
      "The C60-C60 distance is: 15.75\n",
      "Running ORCA calculation for C60_C60.inp\n",
      "Calculation completed. Output written to C60_C60.log\n",
      "\n",
      "The C60-C60 distance is: 16.0\n",
      "Running ORCA calculation for C60_C60.inp\n",
      "Calculation completed. Output written to C60_C60.log\n",
      "Energy1= -128.46352651284\n",
      "2*Energy1= -256.92705302568\n",
      "Energy= [-256.89907945 -256.92912772 -256.94261979 -256.94516493 -256.94388599\n",
      " -256.94143946 -256.93891026 -256.93667538 -256.93480045 -256.9332667\n",
      " -256.93203172 -256.93104738 -256.93026742 -256.92965084 -256.92916308\n",
      " -256.92877607 -256.92846753 -256.92822013 -256.9280206  -256.92785891\n",
      " -256.92772749 -256.92762058 -256.92753371 -256.92746346 -256.92740643\n",
      " -256.92736028 -256.92732254 -256.9272914  -256.9272655  -256.92724369]\n",
      "[ 8.75  9.    9.25  9.5   9.75 10.   10.25 10.5  10.75 11.   11.25 11.5\n",
      " 11.75 12.   12.25 12.5  12.75 13.   13.25 13.5  13.75 14.   14.25 14.5\n",
      " 14.75 15.   15.25 15.5  15.75 16.  ]\n",
      "[ 73.44463143  -5.44710219 -40.87053177 -47.55279815 -44.19495961\n",
      " -37.7715774  -31.13117564 -25.26350077 -20.34087319 -16.31401133\n",
      " -13.07156228 -10.48716831  -8.43938717  -6.82054974  -5.53995833\n",
      "  -4.52386365  -3.71378309  -3.06422349  -2.54035826  -2.11584351\n",
      "  -1.77081316  -1.49011421  -1.26204687  -1.07760633  -0.92786863\n",
      "  -0.80670499  -0.70761347  -0.62584899  -0.55785897  -0.50057993]\n",
      " Il volume nell'unit… C Š Windows\n",
      " Numero di serie del volume: 4E52-4D65\n",
      "\n",
      " Directory di C:\\Users\\raos\\OneDrive - Politecnico di Milano\\Documenti\\GUIDO\\Didattica\\MolecularModeling\\Notebooks\\C60\n",
      "\n",
      "08/04/2025  09:50             7'407 C60_C60.inp\n",
      "08/04/2025  09:49             3'395 C60_opt.inp\n",
      "\n",
      " Directory di C:\\Users\\raos\\OneDrive - Politecnico di Milano\\Documenti\\GUIDO\\Didattica\\MolecularModeling\\Notebooks\\C60\n",
      "\n",
      "08/04/2025  09:50            37'320 C60_C60.log\n",
      "08/04/2025  09:50         1'128'971 C60_opt.log\n",
      "               4 File      1'177'093 byte\n",
      "               0 Directory  618'208'186'368 byte disponibili\n"
     ]
    }
   ],
   "source": [
    "# We prepare a series of input files with two molecules, displaced along z\n",
    "\n",
    "# (to investigate the effect of non-spericity, we should consider other directions and/or rotate the molecules).\n",
    "\n",
    "delta_start = 8.75\n",
    "delta_stop = 16.0\n",
    "npoints = 30\n",
    "distance = np.linspace(delta_start,delta_stop,num=npoints,endpoint=True)\n",
    "energy = np.zeros(npoints)\n",
    "i = -1\n",
    "for d in distance:\n",
    "    i += 1\n",
    "    delta = [0.0, 0.0, d]\n",
    "    input_file = \"C60_C60-\"+str(d)+\".inp\"     # This defines a different file name for each calculation\n",
    "    input_file = \"C60_C60.inp\"                # Or use this one to overwrite each input and output file\n",
    "    with open(input_file, 'w') as f:\n",
    "        # Note: we *must* use the \"TightSCF\" option to compute the (small, weak) interaction energy\n",
    "        input1 = \"# Two interacting C60 molecules\\n\" + \"! GFN2-XTB TightSCF \\n\" + \"* xyz 0 1\\n\"\n",
    "        f.write(input1)\n",
    "        # Molecule 1\n",
    "        for c in c60coords:\n",
    "            line = \"C \" + str(c[0]) + \" \" + str(c[1]) + \" \" + str(c[2]) + \"\\n\"\n",
    "            f.write(line)\n",
    "        # Molecule 2\n",
    "        for c in c60coords:\n",
    "            line = \"C \" + str(c[0]+delta[0]) + \" \" + str(c[1]+delta[1]) + \" \" + str(c[2]+delta[2]) + \"\\n\"\n",
    "            f.write(line)\n",
    "        f.write(\"*\")\n",
    "    # Now run the calculation\n",
    "    print(\"\\nThe C60-C60 distance is:\", d)\n",
    "    output_file = run_orca(input_file)\n",
    "    # Extract the total energy from the output\n",
    "    with open(output_file) as f:\n",
    "        for line in f:\n",
    "            if \"FINAL SINGLE POINT ENERGY\" in line:\n",
    "                ls = line.split()\n",
    "                energy[i] = float( ls[-1] )\n",
    "                break\n",
    "\n",
    "print(\"Energy1=\", energy1)\n",
    "print(\"2*Energy1=\", 2*energy1)\n",
    "print(\"Energy=\", energy)\n",
    "\n",
    "Eh_to_kJmol = 2625.5\n",
    "energy = (energy-2*energy1)*2625.5\n",
    "\n",
    "print(distance)\n",
    "print(energy)\n",
    "\n",
    "# Check that files have been written\n",
    "!dir *.inp *.log"
   ]
  },
  {
   "cell_type": "code",
   "execution_count": 19,
   "metadata": {},
   "outputs": [
    {
     "data": {
      "image/png": "[encoded data removed]",
      "text/plain": [
       "<Figure size 640x480 with 1 Axes>"
      ]
     },
     "metadata": {},
     "output_type": "display_data"
    }
   ],
   "source": [
    "plt.plot(distance, energy, 'r o')\n",
    "plt.xlabel('$D$ (Angs)', size=14)\n",
    "plt.ylabel('$Delta E$ (kJ/mol)', size=14)\n",
    "plt.show()"
   ]
  },
  {
   "cell_type": "markdown",
   "metadata": {},
   "source": [
    "## Fitting of the C$_{60}$-C$_{60}$ interaction potential"
   ]
  },
  {
   "cell_type": "markdown",
   "metadata": {},
   "source": [
    "We will try to fit the potential with:\n",
    "* An \"expanded Lennard-Jones\" potential. This an empirical model for the interaction of nanoparticles two particles with a \"hard core\":\n",
    "  \\begin{equation}\n",
    "  U_{ELJ}(D) = 4\\epsilon \\left[ \\left(\\frac{\\sigma}{D-\\Delta}\\right)^{12} - \\left(\\frac{\\sigma}{D-\\Delta}\\right)^{6} \\right]\n",
    "  \\end{equation}\n",
    "  Here $\\Delta$ is an additional fit parameter, that should be of the order of 8 Angs (sum of the radii of two fullenere molecules).\n",
    "* The \"Girifalco potential\", which is derived and described in this paper: L.A Girifalco, \"Molecular Properties of Fullerene in the Gas and Solid Phases\", *J. Phys. Chem.* **1992**, 96 (2), 858–861. https://doi.org/10.1021/j100181a061. The potential was derived by summing (integrating analytically) the pairwise interactions for the C atoms over the surfaces of two spheres. See also \"Hamaker theory\": https://en.wikipedia.org/wiki/Hamaker_theory\n",
    "\n",
    "Note that poth potentials are spherically symmetric (they depend only on the interparticle distance $D$).\n"
   ]
  },
  {
   "cell_type": "code",
   "execution_count": 22,
   "metadata": {
    "scrolled": true
   },
   "outputs": [
    {
     "name": "stdout",
     "output_type": "stream",
     "text": [
      "Optimized ELJ params: sigma= 4.150931335899807  epsilon= 47.82472664064376 delta= 4.836697980813469\n"
     ]
    },
    {
     "data": {
      "image/png": "[encoded data removed]",
      "text/plain": [
       "<Figure size 640x480 with 1 Axes>"
      ]
     },
     "metadata": {},
     "output_type": "display_data"
    }
   ],
   "source": [
    "def UELJ(r, sigma=1.0, epsilon=1.0, delta=0.0):\n",
    "    \"\"\"Computes the Expanded LJ interaction energy for two atoms, at distance r\"\"\"\n",
    "    ddd = delta*np.ones(np.shape(r))\n",
    "    sr6 = (sigma / (r-ddd))**6\n",
    "    energy = 4 * epsilon * ( sr6**2 - sr6 )\n",
    "    return energy\n",
    "\n",
    "# Note: I had to experiment a little with the \"bounds\" in order to get a resonable fit.\n",
    "popt, pcov = opt.curve_fit(UELJ, distance[2:], energy[2:], bounds=([0,30,4.],[5,60,9.]))\n",
    "sigma, epsilon, delta = popt\n",
    "print(\"Optimized ELJ params: sigma=\", sigma, \" epsilon=\", epsilon, \"delta=\", delta)\n",
    "\n",
    "R = np.linspace(distance[0],distance[-1],120)\n",
    "Efit = UELJ(R, sigma, epsilon, delta)\n",
    "plt.plot(distance, energy, 'r o')\n",
    "plt.plot(R, Efit)\n",
    "plt.xlabel('$D$ (Angs)', size=14)\n",
    "plt.ylabel('$Delta E$ (kJ/mol)', size=14)\n",
    "plt.ylim((-60,00))\n",
    "plt.show()"
   ]
  },
  {
   "cell_type": "markdown",
   "metadata": {},
   "source": [
    "The fit with the the expanded LJ potential \"looks ok\", thanks to the additional parameter. Note however that the final value of $\\sigma$ is greater than could be expected (it is much bigger than 3.4 Angs, which is the Van der Waals diameter of C), whereas $\\Delta$ is smaller that could be expected (it is much smaller than the \"bare\" radius of C$_{60}$, that we have computed above). Thus, they seem to compensate each other, but we cannot give any real physical significance to their values. This is a common problem, when you are \"overfitting\" your data.\n",
    "\n",
    "> Quote of the day:\n",
    "> \n",
    "> \"With four parameters I can fit an elephant, and with five I can make him wiggle his trunk.\" (John von Neumann, as reported by Enrico Fermi).\n",
    ">\n",
    "> See this article on Wikipedia: https://en.wikipedia.org/wiki/Von_Neumann%27s_elephant\n"
   ]
  },
  {
   "cell_type": "markdown",
   "metadata": {},
   "source": [
    "Let us now try the Girifalco potential, instead. This also contains three adjustable parameters, but it is more physically justificated. It assumes that within a molecule there are 60 carbon atoms that are \"evenly spread\" on a sphere of radius $a$. The individual C atoms interact by the following pairwise potential:\n",
    " \\begin{equation}\n",
    "  U_{CC}(r) = \\frac{B}{r^{12}} - \\frac{A}{r^{6}}\n",
    " \\end{equation}\n",
    "with the following parameters:\n",
    "* $A = 32.00 \\times 10^{-60}$ erg/cm$^6$\n",
    "* $B = 55.77 \\times 10^{-105}$ erg/cm$^{12}$.\n",
    "\n",
    "**Your turn:** show that the potential above is equivalent to a standard Lennard-Jones potential (see above, with $\\Delta=0$), and derive the corresponding parameters $\\sigma$ (in Angs) and $\\epsilon$ (in kJ/mol).\n",
    "* $\\sigma=...$\n",
    "* $\\epsilon=...$\n"
   ]
  },
  {
   "cell_type": "code",
   "execution_count": 25,
   "metadata": {},
   "outputs": [
    {
     "name": "stdout",
     "output_type": "stream",
     "text": [
      "Optimized Girifalco params: a2= 6.48483975283583  alpha= 11.11412667795946 beta= 0.03502543050781033\n"
     ]
    },
    {
     "data": {
      "image/png": "[encoded data removed]",
      "text/plain": [
       "<Figure size 640x480 with 1 Axes>"
      ]
     },
     "metadata": {},
     "output_type": "display_data"
    }
   ],
   "source": [
    "def UGF(r, a2=7.1, alpha=4.513, beta=0.0081871):\n",
    "    \"\"\"Computes the Girifalco potential for two C60 molecules, at distance r\"\"\"\n",
    "    # The default values of the three parameters correspond to those in the Girifalco paper\n",
    "    # a2 (=2a) = 7.1 Angs\n",
    "    # alpha = 74.95E-15 erg (converted to kJ/mol)\n",
    "    # beta = 135.95E-18 erg (converted to kJ/mol)\n",
    "    s = r/a2\n",
    "    si = 1./s\n",
    "    term1 = si/(s-1.)**3 + si/(s+1.)**3 - 2.*si**4  # This is the attractive part of the potential\n",
    "    term2 = si/(s-1.)**9 + si/(s+1.)**9 - 2.*si**10 # This is the repulsive part of the potential\n",
    "    energy = -alpha*term1 + beta*term2\n",
    "    return energy\n",
    "\n",
    "R = np.linspace(distance[0],distance[-1],120)\n",
    "Eoriginal = UGF(R)   # The Girifalco potential with the original parameters\n",
    "\n",
    "# We now obtain the parameters of the same potential that fit our ORCA-calculated points. \n",
    "popt, pcov = opt.curve_fit(UGF, distance[1:], energy[1:], bounds=([6.,1.,0.],[8.,25.,0.9]))\n",
    "a2, alpha, beta = popt\n",
    "print(\"Optimized Girifalco params: a2=\", a2, \" alpha=\", alpha, \"beta=\", beta)\n",
    "\n",
    "Efit = UGF(R, a2, alpha, beta)\n",
    "plt.plot(distance, energy, 'r o', label=\"GNF2-XTB\")\n",
    "plt.plot(R, Eoriginal, label=\"GF, original\")\n",
    "plt.plot(R, Efit, label=\"GF, fitted\")\n",
    "plt.xlabel('$D$ (Angs)', size=14)\n",
    "plt.ylabel('$Delta E$ (kJ/mol)', size=14)\n",
    "plt.ylim((-60,80))\n",
    "plt.legend()\n",
    "plt.show()"
   ]
  },
  {
   "cell_type": "markdown",
   "metadata": {},
   "source": [
    "Comments:\n",
    "* Compared to the original Girifalco potential (published in 1992), its seems that the GNF2-XTB method overestimates the interaction energy, but underestimates the \"size\" of the molecules (location of the potential energy minimum). It would be interesting to look for up-to-date experimental data on C$_{60}$ (e.g., densities, surface energies and sublimation entalpies), to decide which one is (more) correct.\n",
    "* The fit with the Girifalco potential looks \"just as good\" as with the expanded LJ potential. After all, they both contain three adjustable parameters. So which one is better? It depends. One is physically sounder, whereas the other is simpler and computationally cheaper (important, if we wanted to do Molecular Dynamics or Monte Carlo simulations with thousands of C$_{60}$ molecules)."
   ]
  },
  {
   "cell_type": "code",
   "execution_count": null,
   "metadata": {},
   "outputs": [],
   "source": []
  },
  {
   "cell_type": "markdown",
   "metadata": {},
   "source": [
    "## Excited electronic states of C$_{60}$"
   ]
  },
  {
   "cell_type": "markdown",
   "metadata": {},
   "source": [
    "In our course, we have talked almost exclusively about quantum chemical methods (e.g., HF and DFT) that can be used to compute electronic wavefunctions and properties of molecules in their ground state. However, excited-state calculations are also possible.\n",
    "\n",
    "We want explore the excited electronic states of the C$_{60}$ molecule. These are important (both for applications and from a purely theoretical point of view) and have been extensively studied.\n",
    "\n",
    "The following paper can be used as a guideline:  K. Andersson, \"The Electronic Spectrum of C60\". *Chemical Physics Letters* **2020**, 739, 136976. https://doi.org/10.1016/j.cplett.2019.136976.\n",
    "\n",
    "The above paper uses sophisticated CASSCF/CASPT2 calculations, that we cannot afford to use because of their cost (also, we have not said much about these methods in our theory lectures). Instead, we will compute the excited states by **CIS (configuration interaction with single excitations)** with an \"old fashioned\" semipirical MO method (AM1, PM3 or INDO/S). Note that GFN2-XTB cannot be used to compute excited state (unlike the *ab initio* versions of DFT, where one could try to do a [\"time-dependent DFT\"](https://en.wikipedia.org/wiki/Time-dependent_density_functional_theory) calculation, see also the [relevant sections](https://www.faccts.de/docs/orca/6.0/manual/contents/detailed/tddft.html) of the ORCA manual).\n"
   ]
  },
  {
   "cell_type": "markdown",
   "metadata": {},
   "source": [
    "\n",
    "In general, a CI calculation can be used both to refine the ground state by accounting for electron correlation effects (lowest root of the \"secular problem\") and to describe the excited states (higher roots of the secular problem). In particular, the CIS wavefunctions can be written (in symbolic form):\n",
    "\\begin{equation}\n",
    "\\Psi_{CIS} = c_0 \\Psi_{HF} + \\sum_o^{occupied} \\sum_v^{virtual} c_{ov}\\Psi(o\\rightarrow v)\n",
    "\\end{equation}\n",
    "where $o$ and $v$ are labels for the occupied and virtual *spin*-orbitals (i.e., they are associated with an $\\alpha$ or $\\beta$ spins). The coefficients of the expansion, $c_0$ and $c_{ov}$, are determined from the solution of the secular problem and the normalization condition (see lecture slides...).\n",
    "\n",
    "Note: it can be proven ([Brillouin's theorem](/https://en.wikipedia.org/wiki/Brillouin%27s_theorem)) that the matrix elements of the Hamiltonian between the HF wavefunction and the singly excited determinants are all zero:\n",
    "\\begin{equation}\n",
    "\\left\\langle \\Psi_{HF} | \\cal{H} | \\Psi(o\\rightarrow v) \\right\\rangle = 0  \\hspace{1cm} (\\forall o, v).\n",
    "\\end{equation}\n",
    "One consequence of this, is that a CIS calculation leaves the ground-state wavefunction and its energy unchanged (i.e., equal to the HF). To introduce some electron correlation within the ground state wavefunction, one must do at least a CISD calculation (i.e., include also doubly excited determinants). Unfortunately, all truncated CI approaches suffer from the lack of \"size-consistency\" (see again the lecture slides...). The problem probably gets more severe when the size of the system increases (and C$_{60}$ is already pretty large!).\n",
    "\n",
    "Here is a simple/sample ORCA input, to perform a semiempirical CIS calculation with the ZINDO/S Hamiltonian:\n",
    "```\n",
    "! zindo/s TightSCF\n",
    "! PrintMOs printbasis\n",
    "%cis\n",
    "  nroots 60\n",
    "  maxdim 5\n",
    "  tda true\n",
    "  triplets false\n",
    "end\n",
    "* xyz 0 1\n",
    " C     2.16650   0.59060   2.58740\n",
    "...\n",
    "...\n",
    "*\n",
    "```\n",
    "Disclaimer: due to lack of time, I have not tested much the effect of the parameters in the ```%cis``` section of the input."
   ]
  },
  {
   "cell_type": "markdown",
   "metadata": {},
   "source": [
    "## Suggestions for further work"
   ]
  },
  {
   "cell_type": "markdown",
   "metadata": {},
   "source": [
    "The following ideas could evolve into a end-of-course project, to be discussed at the exam:\n",
    "* Carry out the CIS calculations and discuss the results.\n",
    "* Study the structure and stablity of higher fullerenest or other materials (e.g., graphene and other 2D materials, also non-carbon-based).\n",
    "* Have you ever heard of [endohedral fullerene](https://en.wikipedia.org/wiki/Endohedral_fullerene) complexes?\n",
    "* If you are inclided to study some theory, prepare a report discussing the theoretical basis of one of the methods that have been cited above.\n",
    "* ... "
   ]
  },
  {
   "cell_type": "code",
   "execution_count": null,
   "metadata": {},
   "outputs": [],
   "source": []
  }
 ],
 "metadata": {
  "kernelspec": {
   "display_name": "Python 3 (ipykernel)",
   "language": "python",
   "name": "python3"
  },
  "language_info": {
   "codemirror_mode": {
    "name": "ipython",
    "version": 3
   },
   "file_extension": ".py",
   "mimetype": "text/x-python",
   "name": "python",
   "nbconvert_exporter": "python",
   "pygments_lexer": "ipython3",
   "version": "3.12.4"
  }
 },
 "nbformat": 4,
 "nbformat_minor": 4
}
